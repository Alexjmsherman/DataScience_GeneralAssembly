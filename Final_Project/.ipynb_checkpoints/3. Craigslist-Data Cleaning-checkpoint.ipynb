{
 "cells": [
  {
   "cell_type": "code",
   "execution_count": null,
   "metadata": {
    "collapsed": true
   },
   "outputs": [],
   "source": [
    "#Questions\n",
    "#Should I bin the Google Places data?\n",
    "\n",
    "#After collecting the data - clenaning required\n",
    "#In practice I went back and forth between data cleaning and visualization\n",
    "#not separate steps"
   ]
  },
  {
   "cell_type": "code",
   "execution_count": 8,
   "metadata": {
    "collapsed": false
   },
   "outputs": [],
   "source": [
    "import pandas as pd\n",
    "import numpy as np\n",
    "import matplotlib.pyplot as plt\n",
    "%matplotlib inline  "
   ]
  },
  {
   "cell_type": "code",
   "execution_count": 45,
   "metadata": {
    "collapsed": false
   },
   "outputs": [],
   "source": [
    "# Combine all collected data for data cleaning\n",
    "\n",
    "# Get the craigslist listing data from the first Ipython Notebook\n",
    "Listing_data = pd.read_csv(r'C:\\Users\\alsherman\\Desktop\\GitHub\\DataScience_GeneralAssembly\\Data\\Cleaned_Data_May_13.csv')\n",
    "\n",
    "# Get the Google Places data from the second Ipython Notebook\n",
    "Google_Places_data = pd.read_csv(r'C:\\Users\\alsherman\\Desktop\\GitHub\\DataScience_GeneralAssembly\\Data\\GooglePlacesAPI_May_13.csv')\n",
    "\n",
    "# Combine both data sets into a single dataframe\n",
    "data = pd.merge(Listing_data, Google_Places_data, how='inner', on='ID')"
   ]
  },
  {
   "cell_type": "code",
   "execution_count": 2,
   "metadata": {
    "collapsed": false
   },
   "outputs": [
    {
     "ename": "NameError",
     "evalue": "name 'data' is not defined",
     "output_type": "error",
     "traceback": [
      "\u001b[1;31m---------------------------------------------------------------------------\u001b[0m",
      "\u001b[1;31mNameError\u001b[0m                                 Traceback (most recent call last)",
      "\u001b[1;32m<ipython-input-2-77468b872de9>\u001b[0m in \u001b[0;36m<module>\u001b[1;34m()\u001b[0m\n\u001b[0;32m      1\u001b[0m \u001b[1;31m# View the Data\u001b[0m\u001b[1;33m\u001b[0m\u001b[1;33m\u001b[0m\u001b[0m\n\u001b[1;32m----> 2\u001b[1;33m \u001b[1;32mprint\u001b[0m \u001b[0mlen\u001b[0m\u001b[1;33m(\u001b[0m\u001b[0mdata\u001b[0m\u001b[1;33m)\u001b[0m\u001b[1;33m\u001b[0m\u001b[0m\n\u001b[0m\u001b[0;32m      3\u001b[0m \u001b[0mdata\u001b[0m\u001b[1;33m.\u001b[0m\u001b[0mhead\u001b[0m\u001b[1;33m(\u001b[0m\u001b[1;36m3\u001b[0m\u001b[1;33m)\u001b[0m\u001b[1;33m\u001b[0m\u001b[0m\n",
      "\u001b[1;31mNameError\u001b[0m: name 'data' is not defined"
     ]
    }
   ],
   "source": [
    "# View the Data\n",
    "\n",
    "print len(data)\n",
    "data.head(3)"
   ]
  },
  {
   "cell_type": "markdown",
   "metadata": {},
   "source": [
    "## Data Cleaning"
   ]
  },
  {
   "cell_type": "code",
   "execution_count": 47,
   "metadata": {
    "collapsed": false
   },
   "outputs": [],
   "source": [
    "# Clean up the Price Field\n",
    "\n",
    "try: # The code in the try block works only if listings have '$' in the price field (i.e. the first time the code is run)\n",
    "    # Determine which listings have a price (i.e. the first character of the title is a dollar sign)\n",
    "    data['price_to_keep'] = [price[0] for price in data.price]\n",
    "    data = data[data.price_to_keep == '$']\n",
    "    data.drop('price_to_keep', axis=1, inplace = True)\n",
    "\n",
    "    # Remove dollar symbol from price to change string to integer\n",
    "    data.price = [int(price.replace('$','')) for price in data.price]\n",
    "except: pass\n",
    "\n",
    "#Drop all listing that do not have a listed price as they do not apply to my analysis\n",
    "data = data[data.price > 0]\n",
    "\n",
    "# Remove outliers with unusually high rental prices - possible data input mistakes from users\n",
    "data = data[data.price < 10000]\n",
    "\n",
    "# Remove listings with price listed as <= $1\n",
    "#I hypothisize that this is to show up at the top when a user sorts by price\n",
    "data = data[data.price > 1]"
   ]
  },
  {
   "cell_type": "code",
   "execution_count": 48,
   "metadata": {
    "collapsed": false
   },
   "outputs": [],
   "source": [
    "# Covert animals and smoking variables to numeric (1 = allowed; 0 = not allowed)\n",
    "\n",
    "data['dog'] = [1 if dog == 'dogs are OK - wooof' else 0 for dog in data.dog]\n",
    "data['cat'] = [1 if cat == 'cats are OK - purrr' else 0 for cat in data.cat]\n",
    "#smoking is not a good metric due to mass of NaN values\n",
    "data['smoking'] = [0 if smoking == 'no smoking' else 1 for smoking in data.smoking]"
   ]
  },
  {
   "cell_type": "code",
   "execution_count": 49,
   "metadata": {
    "collapsed": false,
    "scrolled": true
   },
   "outputs": [
    {
     "name": "stderr",
     "output_type": "stream",
     "text": [
      "c:\\Users\\alsherman\\AppData\\Local\\Continuum\\Anaconda\\lib\\site-packages\\IPython\\kernel\\__main__.py:14: SettingWithCopyWarning: \n",
      "A value is trying to be set on a copy of a slice from a DataFrame\n",
      "\n",
      "See the the caveats in the documentation: http://pandas.pydata.org/pandas-docs/stable/indexing.html#indexing-view-versus-copy\n",
      "c:\\Users\\alsherman\\AppData\\Local\\Continuum\\Anaconda\\lib\\site-packages\\IPython\\kernel\\__main__.py:15: SettingWithCopyWarning: \n",
      "A value is trying to be set on a copy of a slice from a DataFrame\n",
      "\n",
      "See the the caveats in the documentation: http://pandas.pydata.org/pandas-docs/stable/indexing.html#indexing-view-versus-copy\n",
      "c:\\Users\\alsherman\\AppData\\Local\\Continuum\\Anaconda\\lib\\site-packages\\IPython\\kernel\\__main__.py:16: SettingWithCopyWarning: \n",
      "A value is trying to be set on a copy of a slice from a DataFrame\n",
      "\n",
      "See the the caveats in the documentation: http://pandas.pydata.org/pandas-docs/stable/indexing.html#indexing-view-versus-copy\n",
      "c:\\Users\\alsherman\\AppData\\Local\\Continuum\\Anaconda\\lib\\site-packages\\IPython\\kernel\\__main__.py:17: SettingWithCopyWarning: \n",
      "A value is trying to be set on a copy of a slice from a DataFrame\n",
      "\n",
      "See the the caveats in the documentation: http://pandas.pydata.org/pandas-docs/stable/indexing.html#indexing-view-versus-copy\n",
      "c:\\Users\\alsherman\\AppData\\Local\\Continuum\\Anaconda\\lib\\site-packages\\IPython\\kernel\\__main__.py:18: SettingWithCopyWarning: \n",
      "A value is trying to be set on a copy of a slice from a DataFrame\n",
      "\n",
      "See the the caveats in the documentation: http://pandas.pydata.org/pandas-docs/stable/indexing.html#indexing-view-versus-copy\n",
      "c:\\Users\\alsherman\\AppData\\Local\\Continuum\\Anaconda\\lib\\site-packages\\IPython\\kernel\\__main__.py:19: SettingWithCopyWarning: \n",
      "A value is trying to be set on a copy of a slice from a DataFrame\n",
      "\n",
      "See the the caveats in the documentation: http://pandas.pydata.org/pandas-docs/stable/indexing.html#indexing-view-versus-copy\n",
      "c:\\Users\\alsherman\\AppData\\Local\\Continuum\\Anaconda\\lib\\site-packages\\IPython\\kernel\\__main__.py:20: SettingWithCopyWarning: \n",
      "A value is trying to be set on a copy of a slice from a DataFrame\n",
      "\n",
      "See the the caveats in the documentation: http://pandas.pydata.org/pandas-docs/stable/indexing.html#indexing-view-versus-copy\n",
      "c:\\Users\\alsherman\\AppData\\Local\\Continuum\\Anaconda\\lib\\site-packages\\IPython\\kernel\\__main__.py:21: SettingWithCopyWarning: \n",
      "A value is trying to be set on a copy of a slice from a DataFrame\n",
      "\n",
      "See the the caveats in the documentation: http://pandas.pydata.org/pandas-docs/stable/indexing.html#indexing-view-versus-copy\n",
      "c:\\Users\\alsherman\\AppData\\Local\\Continuum\\Anaconda\\lib\\site-packages\\IPython\\kernel\\__main__.py:22: SettingWithCopyWarning: \n",
      "A value is trying to be set on a copy of a slice from a DataFrame\n",
      "\n",
      "See the the caveats in the documentation: http://pandas.pydata.org/pandas-docs/stable/indexing.html#indexing-view-versus-copy\n",
      "c:\\Users\\alsherman\\AppData\\Local\\Continuum\\Anaconda\\lib\\site-packages\\IPython\\kernel\\__main__.py:23: SettingWithCopyWarning: \n",
      "A value is trying to be set on a copy of a slice from a DataFrame\n",
      "\n",
      "See the the caveats in the documentation: http://pandas.pydata.org/pandas-docs/stable/indexing.html#indexing-view-versus-copy\n",
      "c:\\Users\\alsherman\\AppData\\Local\\Continuum\\Anaconda\\lib\\site-packages\\IPython\\kernel\\__main__.py:24: SettingWithCopyWarning: \n",
      "A value is trying to be set on a copy of a slice from a DataFrame\n",
      "\n",
      "See the the caveats in the documentation: http://pandas.pydata.org/pandas-docs/stable/indexing.html#indexing-view-versus-copy\n",
      "c:\\Users\\alsherman\\AppData\\Local\\Continuum\\Anaconda\\lib\\site-packages\\IPython\\kernel\\__main__.py:25: SettingWithCopyWarning: \n",
      "A value is trying to be set on a copy of a slice from a DataFrame\n",
      "\n",
      "See the the caveats in the documentation: http://pandas.pydata.org/pandas-docs/stable/indexing.html#indexing-view-versus-copy\n",
      "c:\\Users\\alsherman\\AppData\\Local\\Continuum\\Anaconda\\lib\\site-packages\\IPython\\kernel\\__main__.py:26: SettingWithCopyWarning: \n",
      "A value is trying to be set on a copy of a slice from a DataFrame\n",
      "\n",
      "See the the caveats in the documentation: http://pandas.pydata.org/pandas-docs/stable/indexing.html#indexing-view-versus-copy\n",
      "c:\\Users\\alsherman\\AppData\\Local\\Continuum\\Anaconda\\lib\\site-packages\\IPython\\kernel\\__main__.py:27: SettingWithCopyWarning: \n",
      "A value is trying to be set on a copy of a slice from a DataFrame\n",
      "\n",
      "See the the caveats in the documentation: http://pandas.pydata.org/pandas-docs/stable/indexing.html#indexing-view-versus-copy\n",
      "c:\\Users\\alsherman\\AppData\\Local\\Continuum\\Anaconda\\lib\\site-packages\\IPython\\kernel\\__main__.py:28: SettingWithCopyWarning: \n",
      "A value is trying to be set on a copy of a slice from a DataFrame\n",
      "\n",
      "See the the caveats in the documentation: http://pandas.pydata.org/pandas-docs/stable/indexing.html#indexing-view-versus-copy\n",
      "c:\\Users\\alsherman\\AppData\\Local\\Continuum\\Anaconda\\lib\\site-packages\\IPython\\kernel\\__main__.py:29: SettingWithCopyWarning: \n",
      "A value is trying to be set on a copy of a slice from a DataFrame\n",
      "\n",
      "See the the caveats in the documentation: http://pandas.pydata.org/pandas-docs/stable/indexing.html#indexing-view-versus-copy\n",
      "c:\\Users\\alsherman\\AppData\\Local\\Continuum\\Anaconda\\lib\\site-packages\\IPython\\kernel\\__main__.py:30: SettingWithCopyWarning: \n",
      "A value is trying to be set on a copy of a slice from a DataFrame\n",
      "\n",
      "See the the caveats in the documentation: http://pandas.pydata.org/pandas-docs/stable/indexing.html#indexing-view-versus-copy\n",
      "c:\\Users\\alsherman\\AppData\\Local\\Continuum\\Anaconda\\lib\\site-packages\\IPython\\kernel\\__main__.py:31: SettingWithCopyWarning: \n",
      "A value is trying to be set on a copy of a slice from a DataFrame\n",
      "\n",
      "See the the caveats in the documentation: http://pandas.pydata.org/pandas-docs/stable/indexing.html#indexing-view-versus-copy\n",
      "c:\\Users\\alsherman\\AppData\\Local\\Continuum\\Anaconda\\lib\\site-packages\\IPython\\kernel\\__main__.py:32: SettingWithCopyWarning: \n",
      "A value is trying to be set on a copy of a slice from a DataFrame\n",
      "\n",
      "See the the caveats in the documentation: http://pandas.pydata.org/pandas-docs/stable/indexing.html#indexing-view-versus-copy\n",
      "c:\\Users\\alsherman\\AppData\\Local\\Continuum\\Anaconda\\lib\\site-packages\\IPython\\kernel\\__main__.py:33: SettingWithCopyWarning: \n",
      "A value is trying to be set on a copy of a slice from a DataFrame\n",
      "\n",
      "See the the caveats in the documentation: http://pandas.pydata.org/pandas-docs/stable/indexing.html#indexing-view-versus-copy\n",
      "c:\\Users\\alsherman\\AppData\\Local\\Continuum\\Anaconda\\lib\\site-packages\\IPython\\kernel\\__main__.py:34: SettingWithCopyWarning: \n",
      "A value is trying to be set on a copy of a slice from a DataFrame\n",
      "\n",
      "See the the caveats in the documentation: http://pandas.pydata.org/pandas-docs/stable/indexing.html#indexing-view-versus-copy\n",
      "c:\\Users\\alsherman\\AppData\\Local\\Continuum\\Anaconda\\lib\\site-packages\\IPython\\kernel\\__main__.py:35: SettingWithCopyWarning: \n",
      "A value is trying to be set on a copy of a slice from a DataFrame\n",
      "\n",
      "See the the caveats in the documentation: http://pandas.pydata.org/pandas-docs/stable/indexing.html#indexing-view-versus-copy\n",
      "c:\\Users\\alsherman\\AppData\\Local\\Continuum\\Anaconda\\lib\\site-packages\\IPython\\kernel\\__main__.py:36: SettingWithCopyWarning: \n",
      "A value is trying to be set on a copy of a slice from a DataFrame\n",
      "\n",
      "See the the caveats in the documentation: http://pandas.pydata.org/pandas-docs/stable/indexing.html#indexing-view-versus-copy\n",
      "c:\\Users\\alsherman\\AppData\\Local\\Continuum\\Anaconda\\lib\\site-packages\\IPython\\kernel\\__main__.py:37: SettingWithCopyWarning: \n",
      "A value is trying to be set on a copy of a slice from a DataFrame\n",
      "\n",
      "See the the caveats in the documentation: http://pandas.pydata.org/pandas-docs/stable/indexing.html#indexing-view-versus-copy\n",
      "c:\\Users\\alsherman\\AppData\\Local\\Continuum\\Anaconda\\lib\\site-packages\\IPython\\kernel\\__main__.py:38: SettingWithCopyWarning: \n",
      "A value is trying to be set on a copy of a slice from a DataFrame\n",
      "\n",
      "See the the caveats in the documentation: http://pandas.pydata.org/pandas-docs/stable/indexing.html#indexing-view-versus-copy\n",
      "c:\\Users\\alsherman\\AppData\\Local\\Continuum\\Anaconda\\lib\\site-packages\\IPython\\kernel\\__main__.py:39: SettingWithCopyWarning: \n",
      "A value is trying to be set on a copy of a slice from a DataFrame\n",
      "\n",
      "See the the caveats in the documentation: http://pandas.pydata.org/pandas-docs/stable/indexing.html#indexing-view-versus-copy\n",
      "c:\\Users\\alsherman\\AppData\\Local\\Continuum\\Anaconda\\lib\\site-packages\\IPython\\kernel\\__main__.py:40: SettingWithCopyWarning: \n",
      "A value is trying to be set on a copy of a slice from a DataFrame\n",
      "\n",
      "See the the caveats in the documentation: http://pandas.pydata.org/pandas-docs/stable/indexing.html#indexing-view-versus-copy\n",
      "c:\\Users\\alsherman\\AppData\\Local\\Continuum\\Anaconda\\lib\\site-packages\\IPython\\kernel\\__main__.py:41: SettingWithCopyWarning: \n",
      "A value is trying to be set on a copy of a slice from a DataFrame\n",
      "\n",
      "See the the caveats in the documentation: http://pandas.pydata.org/pandas-docs/stable/indexing.html#indexing-view-versus-copy\n",
      "c:\\Users\\alsherman\\AppData\\Local\\Continuum\\Anaconda\\lib\\site-packages\\IPython\\kernel\\__main__.py:42: SettingWithCopyWarning: \n",
      "A value is trying to be set on a copy of a slice from a DataFrame\n",
      "\n",
      "See the the caveats in the documentation: http://pandas.pydata.org/pandas-docs/stable/indexing.html#indexing-view-versus-copy\n"
     ]
    }
   ],
   "source": [
    "# Clean up mispelled cities and combine similarly spelled cities\n",
    "\n",
    "# Turn all cities to lower case\n",
    "data.city = [str(city).lower() for city in data.city]\n",
    "\n",
    "# Replace encodings with empty strings\n",
    "data.city = [str(city).replace('%2c','') for city in data.city]\n",
    "data.city = [str(city).replace('%2d','') for city in data.city]\n",
    "data.city = [str(city).replace('%2e','') for city in data.city]\n",
    "data.city = [str(city).replace('%2f','') for city in data.city]\n",
    "data.city = [str(city).replace('%21','') for city in data.city]\n",
    "\n",
    "# Correct cities\n",
    "data.city[data.city == 'aleandria'] = 'Alexandria'\n",
    "data.city[data.city == 'anandale'] = 'annandale'\n",
    "data.city[data.city == 'arliington'] = 'arlington'\n",
    "data.city[data.city == 'arlilngton'] = 'arlington'\n",
    "data.city[data.city == 'aspin'] = 'aspen'\n",
    "data.city[data.city == 'betheda'] = 'bethesda'\n",
    "data.city[data.city == 'hyattsvile'] = 'hyattsville'\n",
    "data.city[data.city == 'hyattsvelle'] = 'hyattsville'\n",
    "data.city[data.city == 'hyatsville'] = 'hyattsville'\n",
    "data.city[data.city == 'w'] = 'washingtondc'\n",
    "data.city[data.city == 'wahsington'] = 'washingtondc'\n",
    "data.city[data.city == 'wash'] = 'washingtondc'\n",
    "data.city[data.city == 'washigton'] = 'washingtondc'\n",
    "data.city[data.city == 'washingon'] = 'washingtondc'\n",
    "data.city[data.city == 'washinnton'] = 'washingtondc'\n",
    "data.city[data.city == 'washinton'] = 'washingtondc'\n",
    "data.city[data.city == 'washiongton'] = 'washingtondc'\n",
    "data.city[data.city == 'dc'] = 'washingtondc'\n",
    "data.city[data.city == 'district'] = 'washingtondc'\n",
    "data.city[data.city == 'washington'] = 'washingtondc'\n",
    "data.city[data.city == 'woodbrige'] = 'woodbridge'\n",
    "data.city[data.city ==  'forstville'] = 'forestville'\n",
    "data.city[data.city ==  'gathersburg'] = 'gaithersburg'\n",
    "data.city[data.city ==  'germatnown'] = 'germantown'\n",
    "data.city[data.city == 'springfiel'] = 'springfield'\n",
    "data.city[data.city == 'rockvillenorth'] = 'rockville'\n",
    "data.city[data.city == 'nw'] = 'northwest'\n",
    "data.city[data.city == 'norht'] = 'north'\n",
    "data.city[data.city == 'mt'] = 'mount'"
   ]
  },
  {
   "cell_type": "code",
   "execution_count": 50,
   "metadata": {
    "collapsed": false
   },
   "outputs": [
    {
     "name": "stderr",
     "output_type": "stream",
     "text": [
      "c:\\Users\\alsherman\\AppData\\Local\\Continuum\\Anaconda\\lib\\site-packages\\IPython\\kernel\\__main__.py:12: SettingWithCopyWarning: \n",
      "A value is trying to be set on a copy of a slice from a DataFrame\n",
      "\n",
      "See the the caveats in the documentation: http://pandas.pydata.org/pandas-docs/stable/indexing.html#indexing-view-versus-copy\n",
      "c:\\Users\\alsherman\\AppData\\Local\\Continuum\\Anaconda\\lib\\site-packages\\IPython\\kernel\\__main__.py:13: SettingWithCopyWarning: \n",
      "A value is trying to be set on a copy of a slice from a DataFrame\n",
      "\n",
      "See the the caveats in the documentation: http://pandas.pydata.org/pandas-docs/stable/indexing.html#indexing-view-versus-copy\n",
      "c:\\Users\\alsherman\\AppData\\Local\\Continuum\\Anaconda\\lib\\site-packages\\IPython\\kernel\\__main__.py:14: SettingWithCopyWarning: \n",
      "A value is trying to be set on a copy of a slice from a DataFrame\n",
      "\n",
      "See the the caveats in the documentation: http://pandas.pydata.org/pandas-docs/stable/indexing.html#indexing-view-versus-copy\n"
     ]
    }
   ],
   "source": [
    "# Clean up mispelled states and combine similarly spelled states\n",
    "\n",
    "# Turn all cities to lower case\n",
    "data.state = [str(state).lower() for state in data.state]\n",
    "\n",
    "# Replace encodings with empty strings\n",
    "data.state = [str(state).replace('%2e','') for state in data.state]\n",
    "data.state = [str(state).replace('%2ec','') for state in data.state]\n",
    "data.state = [str(state).replace('%2f','') for state in data.state]\n",
    "\n",
    "# Correct states\n",
    "data.state[data.state == 'bethesdarockville'] = 'bethesda'\n",
    "data.state[data.state == 'bethsda'] = 'bethesda'\n",
    "data.state[data.state == 'd'] = 'dc'"
   ]
  },
  {
   "cell_type": "code",
   "execution_count": 51,
   "metadata": {
    "collapsed": false
   },
   "outputs": [
    {
     "name": "stderr",
     "output_type": "stream",
     "text": [
      "c:\\Users\\alsherman\\AppData\\Local\\Continuum\\Anaconda\\lib\\site-packages\\IPython\\kernel\\__main__.py:4: SettingWithCopyWarning: \n",
      "A value is trying to be set on a copy of a slice from a DataFrame\n",
      "\n",
      "See the the caveats in the documentation: http://pandas.pydata.org/pandas-docs/stable/indexing.html#indexing-view-versus-copy\n"
     ]
    }
   ],
   "source": [
    "# Clean up square footage\n",
    "\n",
    "# Remove listings where square footage was not listed as a number (e.g. square_footage == 'loft')\n",
    "data.square_footage[data.square_footage == 'loft'] = 0\n",
    "data = data[data.square_footage != 0]\n",
    "\n",
    "# Find the mean value of listing square footage\n",
    "square_footage_series = data.square_footage[data.square_footage.isnull() == False]\n",
    "square_footage_series = [int(i) for i in square_footage_series]\n",
    "square_footage_mean = np.mean(square_footage_series)\n",
    "\n",
    "# Fill in null square footage values with the square_footage_mean\n",
    "# This is a first approach to enable square_footage to work in models\n",
    "data.square_footage.fillna(square_footage_mean, inplace=True)"
   ]
  },
  {
   "cell_type": "markdown",
   "metadata": {},
   "source": [
    "## Feature Engineering"
   ]
  },
  {
   "cell_type": "code",
   "execution_count": 52,
   "metadata": {
    "collapsed": false
   },
   "outputs": [],
   "source": [
    "# Split time and date of posting into separate columns\n",
    "\n",
    "data['time_of_day_of_posting'] = [time.split()[1] for time in data.time_of_posting]\n",
    "data['date_of_posting'] = [time.split()[0] for time in data.time_of_posting]\n",
    "\n",
    "# Drop original time_of_posting field with combined date and time\n",
    "data.drop('time_of_posting', axis=1, inplace = True)\n"
   ]
  },
  {
   "cell_type": "markdown",
   "metadata": {},
   "source": [
    "## Impute Missing Values"
   ]
  },
  {
   "cell_type": "code",
   "execution_count": 53,
   "metadata": {
    "collapsed": false
   },
   "outputs": [],
   "source": [
    "# Fill in missing values for categorical variables as 'No_Data'\n",
    "data[data.city == 'nan'] #some rows have text 'nan' instead of special Python charcter\n",
    "data.city.fillna('No_City_Data', inplace=True)\n",
    "data.country.fillna('No_Country_Data', inplace=True)\n",
    "data.state.fillna('No_State_Data', inplace=True)\n",
    "data.housing_type.fillna('No_Housing_Data', inplace=True)\n",
    "data.url.fillna('No_Url_Data', inplace=True)\n",
    "data.description.fillna('No_Description_Data', inplace=True)\n",
    "data.laundry.fillna('No_Laundry_Data', inplace=True)\n",
    "data.parking.fillna('No_Parking_Data', inplace=True)\n",
    "data.availability.fillna('No_Availability_Data', inplace=True)\n",
    "data.date_available.fillna('No_Date_Availability_Data', inplace=True)\n",
    "data.time_of_day_of_posting.fillna('No_Time_of_Posting_Data', inplace=True)\n",
    "data.date_of_posting.fillna('No_Date_of_Posting_Data', inplace=True)\n",
    "\n",
    "# Fill in missing values for numeric variables as 0\n",
    "data.latitude.fillna(0, inplace=True)\n",
    "data.location_data_accuracy.fillna(0, inplace=True)\n",
    "data.longitude.fillna(0, inplace=True)\n",
    "data.bathroom.fillna(0, inplace=True)\n",
    "data.bedroom.fillna(0, inplace=True)\n",
    "data.cat.fillna(0, inplace=True)\n",
    "data.dog.fillna(0, inplace=True)\n",
    "data.image_number.fillna(0, inplace=True)\n",
    "data.grocery_list.fillna(0, inplace=True)\n",
    "data.gym_list.fillna(0, inplace=True)\n",
    "data.movie_theatre_list.fillna(0, inplace=True)\n",
    "data.train_station_list.fillna(0, inplace=True)\n",
    "data.airport_list.fillna(0, inplace=True)\n",
    "data.subway_station_list.fillna(0, inplace=True)\n",
    "data.Barnes_and_Nobles_list.fillna(0, inplace=True)\n",
    "data.Deloitte_list.fillna(0, inplace=True)\n",
    "data.Starbucks_list.fillna(0, inplace=True)\n",
    "data.smoking.fillna(0, inplace=True)\n",
    "data.average_image_size.fillna(0, inplace=True) #missing values indicate no images, so values are correct as 0"
   ]
  },
  {
   "cell_type": "code",
   "execution_count": 54,
   "metadata": {
    "collapsed": false
   },
   "outputs": [],
   "source": [
    "data.to_csv(r'C:\\Users\\alsherman\\Desktop\\GitHub\\DataScience_GeneralAssembly\\Data\\Cleaned_Data_May_17.csv', index=False)"
   ]
  }
 ],
 "metadata": {
  "kernelspec": {
   "display_name": "Python 2",
   "language": "python",
   "name": "python2"
  },
  "language_info": {
   "codemirror_mode": {
    "name": "ipython",
    "version": 2
   },
   "file_extension": ".py",
   "mimetype": "text/x-python",
   "name": "python",
   "nbconvert_exporter": "python",
   "pygments_lexer": "ipython2",
   "version": "2.7.8"
  }
 },
 "nbformat": 4,
 "nbformat_minor": 0
}
