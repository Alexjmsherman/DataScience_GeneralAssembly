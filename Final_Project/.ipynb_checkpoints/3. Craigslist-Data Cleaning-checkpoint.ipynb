{
 "cells": [
  {
   "cell_type": "markdown",
   "metadata": {
    "collapsed": true
   },
   "source": [
    "This is Ipython Notebook three of five for my final project in General Assembly's data science course.\n",
    "\n",
    "The following code contains contains the data pre-processing: cleaning, transformation, outlier detection, imputation, and feature engineering\n",
    "\n",
    "In practice, the data cleaning and visualization models were created in parallel. I have chosen to separate them for ease of reproducability."
   ]
  },
  {
   "cell_type": "code",
   "execution_count": 93,
   "metadata": {
    "collapsed": false
   },
   "outputs": [],
   "source": [
    "import pandas as pd\n",
    "import numpy as np\n",
    "from dateutil import parser\n",
    "import matplotlib.pyplot as plt\n",
    "%matplotlib inline  "
   ]
  },
  {
   "cell_type": "code",
   "execution_count": 199,
   "metadata": {
    "collapsed": false
   },
   "outputs": [],
   "source": [
    "# Combine all collected data for data cleaning\n",
    "\n",
    "# Get the craigslist listing data from the first Ipython Notebook\n",
    "Listing_data = pd.read_csv(r'C:\\Users\\alsherman\\Desktop\\GitHub\\DataScience_GeneralAssembly\\Data\\Craigslist_Data_May_3_.csv')\n",
    "\n",
    "# Get the Google Places data from the second Ipython Notebook\n",
    "Google_Places_data = pd.read_csv(r'C:\\Users\\alsherman\\Desktop\\GitHub\\DataScience_GeneralAssembly\\Data\\GooglePlacesAPI_May_13.csv')\n",
    "\n",
    "# Combine both data sets into a single dataframe\n",
    "data = pd.merge(Listing_data, Google_Places_data, how='inner', on='ID')"
   ]
  },
  {
   "cell_type": "code",
   "execution_count": 202,
   "metadata": {
    "collapsed": false
   },
   "outputs": [
    {
     "name": "stdout",
     "output_type": "stream",
     "text": [
      "6924\n"
     ]
    },
    {
     "data": {
      "text/html": [
       "<div style=\"max-height:1000px;max-width:1500px;overflow:auto;\">\n",
       "<table border=\"1\" class=\"dataframe\">\n",
       "  <thead>\n",
       "    <tr style=\"text-align: right;\">\n",
       "      <th></th>\n",
       "      <th>ID</th>\n",
       "      <th>city</th>\n",
       "      <th>country</th>\n",
       "      <th>latitude</th>\n",
       "      <th>location_data_accuracy</th>\n",
       "      <th>longitude</th>\n",
       "      <th>state</th>\n",
       "      <th>availability</th>\n",
       "      <th>average_image_size</th>\n",
       "      <th>bathroom</th>\n",
       "      <th>...</th>\n",
       "      <th>image_number</th>\n",
       "      <th>laundry</th>\n",
       "      <th>parking</th>\n",
       "      <th>price</th>\n",
       "      <th>smoking</th>\n",
       "      <th>square_footage</th>\n",
       "      <th>time_of_posting</th>\n",
       "      <th>url</th>\n",
       "      <th>grocery_list</th>\n",
       "      <th>gym_list</th>\n",
       "    </tr>\n",
       "  </thead>\n",
       "  <tbody>\n",
       "    <tr>\n",
       "      <th>0</th>\n",
       "      <td>4959351766</td>\n",
       "      <td>NaN</td>\n",
       "      <td>NaN</td>\n",
       "      <td>NaN</td>\n",
       "      <td>NaN</td>\n",
       "      <td>NaN</td>\n",
       "      <td>NaN</td>\n",
       "      <td>available now</td>\n",
       "      <td>270000</td>\n",
       "      <td>1</td>\n",
       "      <td>...</td>\n",
       "      <td>18</td>\n",
       "      <td>NaN</td>\n",
       "      <td>NaN</td>\n",
       "      <td>1310</td>\n",
       "      <td>NaN</td>\n",
       "      <td>NaN</td>\n",
       "      <td>2015-04-01  2:44pm</td>\n",
       "      <td>http://washingtondc.craigslist.org/mld/apa/495...</td>\n",
       "      <td>0</td>\n",
       "      <td>0</td>\n",
       "    </tr>\n",
       "    <tr>\n",
       "      <th>2</th>\n",
       "      <td>4959459805</td>\n",
       "      <td>NaN</td>\n",
       "      <td>NaN</td>\n",
       "      <td>NaN</td>\n",
       "      <td>NaN</td>\n",
       "      <td>NaN</td>\n",
       "      <td>NaN</td>\n",
       "      <td>available now</td>\n",
       "      <td>0</td>\n",
       "      <td>1</td>\n",
       "      <td>...</td>\n",
       "      <td>0</td>\n",
       "      <td>laundry in bldg</td>\n",
       "      <td>attached garage</td>\n",
       "      <td>1301</td>\n",
       "      <td>NaN</td>\n",
       "      <td>450</td>\n",
       "      <td>2015-04-01  3:46pm</td>\n",
       "      <td>http://washingtondc.craigslist.org/doc/apa/495...</td>\n",
       "      <td>0</td>\n",
       "      <td>0</td>\n",
       "    </tr>\n",
       "    <tr>\n",
       "      <th>4</th>\n",
       "      <td>4960122664</td>\n",
       "      <td>Washinnton</td>\n",
       "      <td>US</td>\n",
       "      <td>38.904593</td>\n",
       "      <td>0</td>\n",
       "      <td>-77.053127</td>\n",
       "      <td>DC</td>\n",
       "      <td>available now</td>\n",
       "      <td>270000</td>\n",
       "      <td>2</td>\n",
       "      <td>...</td>\n",
       "      <td>20</td>\n",
       "      <td>w/d in unit</td>\n",
       "      <td>attached garage</td>\n",
       "      <td>3395</td>\n",
       "      <td>NaN</td>\n",
       "      <td>900</td>\n",
       "      <td>2015-04-02  2:34am</td>\n",
       "      <td>http://washingtondc.craigslist.org/doc/apa/496...</td>\n",
       "      <td>20</td>\n",
       "      <td>20</td>\n",
       "    </tr>\n",
       "  </tbody>\n",
       "</table>\n",
       "<p>3 rows × 26 columns</p>\n",
       "</div>"
      ],
      "text/plain": [
       "           ID        city country   latitude  location_data_accuracy  \\\n",
       "0  4959351766         NaN     NaN        NaN                     NaN   \n",
       "2  4959459805         NaN     NaN        NaN                     NaN   \n",
       "4  4960122664  Washinnton      US  38.904593                       0   \n",
       "\n",
       "   longitude state   availability  average_image_size bathroom    ...     \\\n",
       "0        NaN   NaN  available now              270000        1    ...      \n",
       "2        NaN   NaN  available now                   0        1    ...      \n",
       "4 -77.053127    DC  available now              270000        2    ...      \n",
       "\n",
       "   image_number          laundry          parking price smoking  \\\n",
       "0            18              NaN              NaN  1310     NaN   \n",
       "2             0  laundry in bldg  attached garage  1301     NaN   \n",
       "4            20      w/d in unit  attached garage  3395     NaN   \n",
       "\n",
       "  square_footage     time_of_posting  \\\n",
       "0            NaN  2015-04-01  2:44pm   \n",
       "2            450  2015-04-01  3:46pm   \n",
       "4            900  2015-04-02  2:34am   \n",
       "\n",
       "                                                 url grocery_list  gym_list  \n",
       "0  http://washingtondc.craigslist.org/mld/apa/495...            0         0  \n",
       "2  http://washingtondc.craigslist.org/doc/apa/495...            0         0  \n",
       "4  http://washingtondc.craigslist.org/doc/apa/496...           20        20  \n",
       "\n",
       "[3 rows x 26 columns]"
      ]
     },
     "execution_count": 202,
     "metadata": {},
     "output_type": "execute_result"
    }
   ],
   "source": [
    "# View the Data\n",
    "\n",
    "print len(data)\n",
    "data.head(3)"
   ]
  },
  {
   "cell_type": "markdown",
   "metadata": {},
   "source": [
    "## Data Cleaning"
   ]
  },
  {
   "cell_type": "code",
   "execution_count": 201,
   "metadata": {
    "collapsed": false
   },
   "outputs": [],
   "source": [
    "# Clean up the Price Field\n",
    "\n",
    "try: # The code in the try block works only if listings have '$' in the price field (i.e. the first time the code is run)\n",
    "    # Determine which listings have a price (i.e. the first character of the title is a dollar sign)\n",
    "    data['price_to_keep'] = [price[0] for price in data.price]\n",
    "    data = data[data.price_to_keep == '$']\n",
    "    data.drop('price_to_keep', axis=1, inplace = True)\n",
    "\n",
    "    # Remove dollar symbol from price to change string to integer\n",
    "    data.price = [int(price.replace('$','')) for price in data.price]\n",
    "except: pass\n",
    "\n",
    "#Drop all listing that do not have a listed price as they do not apply to my analysis\n",
    "data = data[data.price > 0]\n",
    "\n",
    "# Remove outliers with unusually high or low rental prices - listing I would unlikely purchase\n",
    "data = data[data.price < 2500]\n",
    "data = data[data.price > 1000]\n",
    "\n",
    "# Remove listings with price listed as <= $100\n",
    "#I hypothisize that this is to show up at the top when a user sorts by price\n",
    "data = data[data.price > 100]"
   ]
  },
  {
   "cell_type": "code",
   "execution_count": 203,
   "metadata": {
    "collapsed": false
   },
   "outputs": [],
   "source": [
    "#Clean up bathroom field\n",
    "\n",
    "data.bathroom.replace(' shared',1, inplace=True)\n",
    "data.bathroom.replace(' split',1, inplace=True)\n",
    "data.bathroom.replace(np.nan,0, inplace=True)\n",
    "data.bathroom = [float(bathroom) for bathroom in data.bathroom]"
   ]
  },
  {
   "cell_type": "code",
   "execution_count": 204,
   "metadata": {
    "collapsed": false
   },
   "outputs": [
    {
     "name": "stderr",
     "output_type": "stream",
     "text": [
      "c:\\Users\\alsherman\\AppData\\Local\\Continuum\\Anaconda\\lib\\site-packages\\IPython\\kernel\\__main__.py:4: SettingWithCopyWarning: \n",
      "A value is trying to be set on a copy of a slice from a DataFrame\n",
      "\n",
      "See the the caveats in the documentation: http://pandas.pydata.org/pandas-docs/stable/indexing.html#indexing-view-versus-copy\n"
     ]
    }
   ],
   "source": [
    "# Clean up square footage\n",
    "\n",
    "# Remove listings where square footage was not listed as a number (e.g. square_footage == 'loft')\n",
    "data.square_footage[data.square_footage == 'loft'] = 0\n",
    "data = data[data.square_footage != 0]\n",
    "\n",
    "data.square_footage.fillna(0, inplace=True) #improved square footage imputations completed below in this notebook\n",
    "data.square_footage = [int(i) for i in data.square_footage]"
   ]
  },
  {
   "cell_type": "markdown",
   "metadata": {},
   "source": [
    "##Data Transformation"
   ]
  },
  {
   "cell_type": "code",
   "execution_count": 205,
   "metadata": {
    "collapsed": false
   },
   "outputs": [],
   "source": [
    "# Transform categorical fields to numeric for scikit-learn \n",
    "\n",
    "data.country = np.where(data.country == 'US',1,0)\n",
    "data.availability = np.where(data.availability == 'available now',1,0)"
   ]
  },
  {
   "cell_type": "code",
   "execution_count": 206,
   "metadata": {
    "collapsed": false
   },
   "outputs": [],
   "source": [
    "# Covert animals and smoking variables to numeric (1 = allowed; 0 = not allowed)\n",
    "\n",
    "data['dog'] = [1 if dog == 'dogs are OK - wooof' or dog == 1 else 0 for dog in data.dog]\n",
    "data['cat'] = [1 if cat == 'cats are OK - purrr' or cat == 1 else 0 for cat in data.cat]\n",
    "#smoking is bad metric due to mass of NaN values\n",
    "data['smoking'] = [0 if smoking == 'no smoking' or smoking == 0 else 1 for smoking in data.smoking]"
   ]
  },
  {
   "cell_type": "markdown",
   "metadata": {},
   "source": [
    "##Outlier Detection - Duplicate and Fake Listings"
   ]
  },
  {
   "cell_type": "code",
   "execution_count": 207,
   "metadata": {
    "collapsed": false
   },
   "outputs": [
    {
     "name": "stderr",
     "output_type": "stream",
     "text": [
      "c:\\Users\\alsherman\\AppData\\Local\\Continuum\\Anaconda\\lib\\site-packages\\IPython\\kernel\\__main__.py:9: SettingWithCopyWarning: \n",
      "A value is trying to be set on a copy of a slice from a DataFrame\n",
      "\n",
      "See the the caveats in the documentation: http://pandas.pydata.org/pandas-docs/stable/indexing.html#indexing-view-versus-copy\n"
     ]
    }
   ],
   "source": [
    "#Remove duplicates listings (same listing)\n",
    "data = data.drop_duplicates()\n",
    "\n",
    "#Remove duplicate listings (same listing data but different Id) - likely seller repeat posting their listing\n",
    "data.drop_duplicates(['latitude','longitude','description','image_number'], inplace=True)\n",
    "\n",
    "#remove data with missing square footage, bedroom, and bathroom (e.g. unrealistic created listings)\n",
    "#Set ID = 999 and filter out these values\n",
    "data.ID[(data.bedroom == 0) & (data.bathroom == 0) & (data.square_footage == 0) & (data.image_number == 0)] = 999\n",
    "data = data[data.ID != 999]"
   ]
  },
  {
   "cell_type": "markdown",
   "metadata": {},
   "source": [
    "## Impute Missing Values"
   ]
  },
  {
   "cell_type": "code",
   "execution_count": 208,
   "metadata": {
    "collapsed": false
   },
   "outputs": [],
   "source": [
    "# Fill in missing values for categorical variables as 'No_Data'\n",
    "data[data.city == 'nan'] #some rows have text 'nan' instead of special Python charcter\n",
    "data.city.fillna('No_City_Data', inplace=True)\n",
    "data.country.fillna('No_Country_Data', inplace=True)\n",
    "data.state.fillna('No_State_Data', inplace=True)\n",
    "data.housing_type.fillna('No_Housing_Data', inplace=True)\n",
    "data.url.fillna('No_Url_Data', inplace=True)\n",
    "data.description.fillna('No_Description_Data', inplace=True)\n",
    "data.laundry.fillna('No_Laundry_Data', inplace=True)\n",
    "data.parking.fillna('No_Parking_Data', inplace=True)\n",
    "data.availability.fillna('No_Availability_Data', inplace=True)\n",
    "data.date_available.fillna('No_Date_Availability_Data', inplace=True)\n",
    "\n",
    "# Fill in missing values for numeric variables as 0\n",
    "data.latitude.fillna(0, inplace=True)\n",
    "data.location_data_accuracy.fillna(0, inplace=True)\n",
    "data.longitude.fillna(0, inplace=True)\n",
    "data.bathroom.fillna(0, inplace=True)\n",
    "data.bedroom.fillna(0, inplace=True)\n",
    "data.cat.fillna(0, inplace=True)\n",
    "data.dog.fillna(0, inplace=True)\n",
    "data.image_number.fillna(0, inplace=True)\n",
    "data.grocery_list.fillna(0, inplace=True)\n",
    "data.gym_list.fillna(0, inplace=True)\n",
    "data.smoking.fillna(0, inplace=True)\n",
    "data.average_image_size.fillna(0, inplace=True) #missing values indicate no images, so values are correct as 0"
   ]
  },
  {
   "cell_type": "code",
   "execution_count": 209,
   "metadata": {
    "collapsed": false
   },
   "outputs": [
    {
     "name": "stderr",
     "output_type": "stream",
     "text": [
      "c:\\Users\\alsherman\\AppData\\Local\\Continuum\\Anaconda\\lib\\site-packages\\IPython\\kernel\\__main__.py:19: SettingWithCopyWarning: \n",
      "A value is trying to be set on a copy of a slice from a DataFrame\n",
      "\n",
      "See the the caveats in the documentation: http://pandas.pydata.org/pandas-docs/stable/indexing.html#indexing-view-versus-copy\n"
     ]
    }
   ],
   "source": [
    "#Improve Square footage imputations (instead of filling all missing values with 0) \n",
    "#by filling in values with the mean of housing type and bedroom groups\n",
    "\n",
    "#create dataframe with mean square footage for groupings of housing type and bedroom\n",
    "data_square_footage_mean = data.groupby(['housing_type','bedroom'])['square_footage'].mean()\n",
    "data.square_footage_mean = pd.DataFrame(data.square_footage)\n",
    "data_square_footage_mean = data_square_footage_mean.reset_index()\n",
    "\n",
    "#create dataframe with count of groupings of housing type and bedroom\n",
    "data_square_footage_count = data.groupby(['housing_type','bedroom'])['square_footage'].count()\n",
    "data.square_footage_count = pd.DataFrame(data.square_footage)\n",
    "data_square_footage_count = data_square_footage_count.reset_index()\n",
    "\n",
    "#Combine mean and count groups from above - use this to detect outliers to not use for square footage imputations\n",
    "#e.g. square footage below 100 or potentially groups with only a few listings\n",
    "data_square_footage = pd.merge(data_square_footage_mean,data_square_footage_count,how='inner',on=['housing_type','bedroom'])\n",
    "data_square_footage.columns = [['housing_type','bedroom','square_footage','count']]\n",
    "#For obviously skewed values from groupby (due to lack of housing type/bedroom group data) replace with mean value\n",
    "data_square_footage.square_footage[data_square_footage.square_footage < 100] = data_square_footage.square_footage.mean()\n",
    "\n",
    "#create a dataframe merging the original data and the new data with every value of square footage equaling the mean\n",
    "xyz = pd.merge(data,data_square_footage, on=['housing_type','bedroom'],how='left')\n",
    "xyz[['housing_type','bedroom','square_footage_x','square_footage_y']] #reduce to only relevant fields\n",
    "\n",
    "#create a list using mean square footage values when the original value == 0 (NaN before replacement)\n",
    "#else use the original values\n",
    "square_footage = []\n",
    "for ind, i in enumerate(xyz.square_footage_x):\n",
    "    if xyz.square_footage_x[ind] == 0:\n",
    "        square_footage.append(int(xyz.square_footage_y[ind]))\n",
    "    else: \n",
    "        square_footage.append(int(xyz.square_footage_x[ind]))\n",
    "\n",
    "#Add clean square_footage to data\n",
    "data['square_footage_cleaned'] = square_footage      \n"
   ]
  },
  {
   "cell_type": "markdown",
   "metadata": {},
   "source": [
    "## Feature Engineering"
   ]
  },
  {
   "cell_type": "code",
   "execution_count": 210,
   "metadata": {
    "collapsed": false
   },
   "outputs": [],
   "source": [
    "# Split time and date of posting into separate columns\n",
    "\n",
    "data['time_of_day_of_posting'] = [time.split()[1] for time in data.time_of_posting]\n",
    "data['date_of_posting'] = [time.split()[0] for time in data.time_of_posting]\n",
    "data['weekday_of_posting'] = [parser.parse(day).weekday() for day in data.date_of_posting]\n",
    "\n",
    "#fill in missing values\n",
    "data.time_of_day_of_posting.fillna('No_Time_of_Posting_Data', inplace=True)\n",
    "data.date_of_posting.fillna('No_Date_of_Posting_Data', inplace=True)\n",
    "\n",
    "# Drop original time_of_posting field with combined date and time\n",
    "data.drop('time_of_posting', axis=1, inplace = True)"
   ]
  },
  {
   "cell_type": "code",
   "execution_count": 211,
   "metadata": {
    "collapsed": false
   },
   "outputs": [],
   "source": [
    "# Turn posting dates and times into numeric data\n",
    "\n",
    "data['Posting_Time_AM_or_PM'] = [Time[-2:] for Time in data.time_of_day_of_posting]\n",
    "data['Posting_Time_AM_or_PM'] = [int(Time.replace('am','0').replace('pm','1')) for Time in data.Posting_Time_AM_or_PM]\n",
    "data['Posting_Time'] = [float(Time.replace('am','').replace('pm','').replace(':','.')) for Time in data.time_of_day_of_posting]\n",
    "data['Posting_Day'] = [int(Date.split('-')[2]) for Date in data.date_of_posting]"
   ]
  },
  {
   "cell_type": "markdown",
   "metadata": {},
   "source": [
    "##Create CSV of Cleaned Data for Modeling"
   ]
  },
  {
   "cell_type": "code",
   "execution_count": 212,
   "metadata": {
    "collapsed": false
   },
   "outputs": [],
   "source": [
    "data.to_csv(r'C:\\Users\\alsherman\\Desktop\\GitHub\\DataScience_GeneralAssembly\\Data\\Cleaned_Data_Final.csv', index=False)"
   ]
  },
  {
   "cell_type": "markdown",
   "metadata": {},
   "source": [
    "##Depreciated Code"
   ]
  },
  {
   "cell_type": "code",
   "execution_count": 43,
   "metadata": {
    "collapsed": true
   },
   "outputs": [],
   "source": [
    "#Remove null values and correlated values\n",
    "\n",
    "# Airport field consists of only 0 (no listing is near an airport according to Google Places API data)\n",
    "# Remove this variable as it provides no value\n",
    "#data.drop('airport_list', axis=1, inplace=True)\n",
    "\n",
    "# Drop train_station_list as it is correlated with subway_station_list\n",
    "#data.drop('train_station_list', axis=1, inplace=True)"
   ]
  },
  {
   "cell_type": "code",
   "execution_count": 91,
   "metadata": {
    "collapsed": false,
    "scrolled": true
   },
   "outputs": [
    {
     "name": "stderr",
     "output_type": "stream",
     "text": [
      "c:\\Users\\alsherman\\AppData\\Local\\Continuum\\Anaconda\\lib\\site-packages\\IPython\\kernel\\__main__.py:14: SettingWithCopyWarning: \n",
      "A value is trying to be set on a copy of a slice from a DataFrame\n",
      "\n",
      "See the the caveats in the documentation: http://pandas.pydata.org/pandas-docs/stable/indexing.html#indexing-view-versus-copy\n",
      "c:\\Users\\alsherman\\AppData\\Local\\Continuum\\Anaconda\\lib\\site-packages\\IPython\\kernel\\__main__.py:15: SettingWithCopyWarning: \n",
      "A value is trying to be set on a copy of a slice from a DataFrame\n",
      "\n",
      "See the the caveats in the documentation: http://pandas.pydata.org/pandas-docs/stable/indexing.html#indexing-view-versus-copy\n",
      "c:\\Users\\alsherman\\AppData\\Local\\Continuum\\Anaconda\\lib\\site-packages\\IPython\\kernel\\__main__.py:16: SettingWithCopyWarning: \n",
      "A value is trying to be set on a copy of a slice from a DataFrame\n",
      "\n",
      "See the the caveats in the documentation: http://pandas.pydata.org/pandas-docs/stable/indexing.html#indexing-view-versus-copy\n",
      "c:\\Users\\alsherman\\AppData\\Local\\Continuum\\Anaconda\\lib\\site-packages\\IPython\\kernel\\__main__.py:17: SettingWithCopyWarning: \n",
      "A value is trying to be set on a copy of a slice from a DataFrame\n",
      "\n",
      "See the the caveats in the documentation: http://pandas.pydata.org/pandas-docs/stable/indexing.html#indexing-view-versus-copy\n",
      "c:\\Users\\alsherman\\AppData\\Local\\Continuum\\Anaconda\\lib\\site-packages\\IPython\\kernel\\__main__.py:18: SettingWithCopyWarning: \n",
      "A value is trying to be set on a copy of a slice from a DataFrame\n",
      "\n",
      "See the the caveats in the documentation: http://pandas.pydata.org/pandas-docs/stable/indexing.html#indexing-view-versus-copy\n",
      "c:\\Users\\alsherman\\AppData\\Local\\Continuum\\Anaconda\\lib\\site-packages\\IPython\\kernel\\__main__.py:19: SettingWithCopyWarning: \n",
      "A value is trying to be set on a copy of a slice from a DataFrame\n",
      "\n",
      "See the the caveats in the documentation: http://pandas.pydata.org/pandas-docs/stable/indexing.html#indexing-view-versus-copy\n",
      "c:\\Users\\alsherman\\AppData\\Local\\Continuum\\Anaconda\\lib\\site-packages\\IPython\\kernel\\__main__.py:20: SettingWithCopyWarning: \n",
      "A value is trying to be set on a copy of a slice from a DataFrame\n",
      "\n",
      "See the the caveats in the documentation: http://pandas.pydata.org/pandas-docs/stable/indexing.html#indexing-view-versus-copy\n",
      "c:\\Users\\alsherman\\AppData\\Local\\Continuum\\Anaconda\\lib\\site-packages\\IPython\\kernel\\__main__.py:21: SettingWithCopyWarning: \n",
      "A value is trying to be set on a copy of a slice from a DataFrame\n",
      "\n",
      "See the the caveats in the documentation: http://pandas.pydata.org/pandas-docs/stable/indexing.html#indexing-view-versus-copy\n",
      "c:\\Users\\alsherman\\AppData\\Local\\Continuum\\Anaconda\\lib\\site-packages\\IPython\\kernel\\__main__.py:22: SettingWithCopyWarning: \n",
      "A value is trying to be set on a copy of a slice from a DataFrame\n",
      "\n",
      "See the the caveats in the documentation: http://pandas.pydata.org/pandas-docs/stable/indexing.html#indexing-view-versus-copy\n",
      "c:\\Users\\alsherman\\AppData\\Local\\Continuum\\Anaconda\\lib\\site-packages\\IPython\\kernel\\__main__.py:23: SettingWithCopyWarning: \n",
      "A value is trying to be set on a copy of a slice from a DataFrame\n",
      "\n",
      "See the the caveats in the documentation: http://pandas.pydata.org/pandas-docs/stable/indexing.html#indexing-view-versus-copy\n",
      "c:\\Users\\alsherman\\AppData\\Local\\Continuum\\Anaconda\\lib\\site-packages\\IPython\\kernel\\__main__.py:24: SettingWithCopyWarning: \n",
      "A value is trying to be set on a copy of a slice from a DataFrame\n",
      "\n",
      "See the the caveats in the documentation: http://pandas.pydata.org/pandas-docs/stable/indexing.html#indexing-view-versus-copy\n",
      "c:\\Users\\alsherman\\AppData\\Local\\Continuum\\Anaconda\\lib\\site-packages\\IPython\\kernel\\__main__.py:25: SettingWithCopyWarning: \n",
      "A value is trying to be set on a copy of a slice from a DataFrame\n",
      "\n",
      "See the the caveats in the documentation: http://pandas.pydata.org/pandas-docs/stable/indexing.html#indexing-view-versus-copy\n",
      "c:\\Users\\alsherman\\AppData\\Local\\Continuum\\Anaconda\\lib\\site-packages\\IPython\\kernel\\__main__.py:26: SettingWithCopyWarning: \n",
      "A value is trying to be set on a copy of a slice from a DataFrame\n",
      "\n",
      "See the the caveats in the documentation: http://pandas.pydata.org/pandas-docs/stable/indexing.html#indexing-view-versus-copy\n",
      "c:\\Users\\alsherman\\AppData\\Local\\Continuum\\Anaconda\\lib\\site-packages\\IPython\\kernel\\__main__.py:27: SettingWithCopyWarning: \n",
      "A value is trying to be set on a copy of a slice from a DataFrame\n",
      "\n",
      "See the the caveats in the documentation: http://pandas.pydata.org/pandas-docs/stable/indexing.html#indexing-view-versus-copy\n",
      "c:\\Users\\alsherman\\AppData\\Local\\Continuum\\Anaconda\\lib\\site-packages\\IPython\\kernel\\__main__.py:28: SettingWithCopyWarning: \n",
      "A value is trying to be set on a copy of a slice from a DataFrame\n",
      "\n",
      "See the the caveats in the documentation: http://pandas.pydata.org/pandas-docs/stable/indexing.html#indexing-view-versus-copy\n",
      "c:\\Users\\alsherman\\AppData\\Local\\Continuum\\Anaconda\\lib\\site-packages\\IPython\\kernel\\__main__.py:29: SettingWithCopyWarning: \n",
      "A value is trying to be set on a copy of a slice from a DataFrame\n",
      "\n",
      "See the the caveats in the documentation: http://pandas.pydata.org/pandas-docs/stable/indexing.html#indexing-view-versus-copy\n",
      "c:\\Users\\alsherman\\AppData\\Local\\Continuum\\Anaconda\\lib\\site-packages\\IPython\\kernel\\__main__.py:30: SettingWithCopyWarning: \n",
      "A value is trying to be set on a copy of a slice from a DataFrame\n",
      "\n",
      "See the the caveats in the documentation: http://pandas.pydata.org/pandas-docs/stable/indexing.html#indexing-view-versus-copy\n",
      "c:\\Users\\alsherman\\AppData\\Local\\Continuum\\Anaconda\\lib\\site-packages\\IPython\\kernel\\__main__.py:31: SettingWithCopyWarning: \n",
      "A value is trying to be set on a copy of a slice from a DataFrame\n",
      "\n",
      "See the the caveats in the documentation: http://pandas.pydata.org/pandas-docs/stable/indexing.html#indexing-view-versus-copy\n",
      "c:\\Users\\alsherman\\AppData\\Local\\Continuum\\Anaconda\\lib\\site-packages\\IPython\\kernel\\__main__.py:32: SettingWithCopyWarning: \n",
      "A value is trying to be set on a copy of a slice from a DataFrame\n",
      "\n",
      "See the the caveats in the documentation: http://pandas.pydata.org/pandas-docs/stable/indexing.html#indexing-view-versus-copy\n",
      "c:\\Users\\alsherman\\AppData\\Local\\Continuum\\Anaconda\\lib\\site-packages\\IPython\\kernel\\__main__.py:33: SettingWithCopyWarning: \n",
      "A value is trying to be set on a copy of a slice from a DataFrame\n",
      "\n",
      "See the the caveats in the documentation: http://pandas.pydata.org/pandas-docs/stable/indexing.html#indexing-view-versus-copy\n",
      "c:\\Users\\alsherman\\AppData\\Local\\Continuum\\Anaconda\\lib\\site-packages\\IPython\\kernel\\__main__.py:34: SettingWithCopyWarning: \n",
      "A value is trying to be set on a copy of a slice from a DataFrame\n",
      "\n",
      "See the the caveats in the documentation: http://pandas.pydata.org/pandas-docs/stable/indexing.html#indexing-view-versus-copy\n",
      "c:\\Users\\alsherman\\AppData\\Local\\Continuum\\Anaconda\\lib\\site-packages\\IPython\\kernel\\__main__.py:35: SettingWithCopyWarning: \n",
      "A value is trying to be set on a copy of a slice from a DataFrame\n",
      "\n",
      "See the the caveats in the documentation: http://pandas.pydata.org/pandas-docs/stable/indexing.html#indexing-view-versus-copy\n",
      "c:\\Users\\alsherman\\AppData\\Local\\Continuum\\Anaconda\\lib\\site-packages\\IPython\\kernel\\__main__.py:36: SettingWithCopyWarning: \n",
      "A value is trying to be set on a copy of a slice from a DataFrame\n",
      "\n",
      "See the the caveats in the documentation: http://pandas.pydata.org/pandas-docs/stable/indexing.html#indexing-view-versus-copy\n",
      "c:\\Users\\alsherman\\AppData\\Local\\Continuum\\Anaconda\\lib\\site-packages\\IPython\\kernel\\__main__.py:37: SettingWithCopyWarning: \n",
      "A value is trying to be set on a copy of a slice from a DataFrame\n",
      "\n",
      "See the the caveats in the documentation: http://pandas.pydata.org/pandas-docs/stable/indexing.html#indexing-view-versus-copy\n",
      "c:\\Users\\alsherman\\AppData\\Local\\Continuum\\Anaconda\\lib\\site-packages\\IPython\\kernel\\__main__.py:38: SettingWithCopyWarning: \n",
      "A value is trying to be set on a copy of a slice from a DataFrame\n",
      "\n",
      "See the the caveats in the documentation: http://pandas.pydata.org/pandas-docs/stable/indexing.html#indexing-view-versus-copy\n",
      "c:\\Users\\alsherman\\AppData\\Local\\Continuum\\Anaconda\\lib\\site-packages\\IPython\\kernel\\__main__.py:39: SettingWithCopyWarning: \n",
      "A value is trying to be set on a copy of a slice from a DataFrame\n",
      "\n",
      "See the the caveats in the documentation: http://pandas.pydata.org/pandas-docs/stable/indexing.html#indexing-view-versus-copy\n",
      "c:\\Users\\alsherman\\AppData\\Local\\Continuum\\Anaconda\\lib\\site-packages\\IPython\\kernel\\__main__.py:40: SettingWithCopyWarning: \n",
      "A value is trying to be set on a copy of a slice from a DataFrame\n",
      "\n",
      "See the the caveats in the documentation: http://pandas.pydata.org/pandas-docs/stable/indexing.html#indexing-view-versus-copy\n",
      "c:\\Users\\alsherman\\AppData\\Local\\Continuum\\Anaconda\\lib\\site-packages\\IPython\\kernel\\__main__.py:41: SettingWithCopyWarning: \n",
      "A value is trying to be set on a copy of a slice from a DataFrame\n",
      "\n",
      "See the the caveats in the documentation: http://pandas.pydata.org/pandas-docs/stable/indexing.html#indexing-view-versus-copy\n",
      "c:\\Users\\alsherman\\AppData\\Local\\Continuum\\Anaconda\\lib\\site-packages\\IPython\\kernel\\__main__.py:42: SettingWithCopyWarning: \n",
      "A value is trying to be set on a copy of a slice from a DataFrame\n",
      "\n",
      "See the the caveats in the documentation: http://pandas.pydata.org/pandas-docs/stable/indexing.html#indexing-view-versus-copy\n"
     ]
    }
   ],
   "source": [
    "# Clean up mispelled cities and combine similarly spelled cities\n",
    "\n",
    "# Turn all cities to lower case\n",
    "data.city = [str(city).lower() for city in data.city]\n",
    "\n",
    "# Replace encodings with empty strings\n",
    "data.city = [str(city).replace('%2c','') for city in data.city]\n",
    "data.city = [str(city).replace('%2d','') for city in data.city]\n",
    "data.city = [str(city).replace('%2e','') for city in data.city]\n",
    "data.city = [str(city).replace('%2f','') for city in data.city]\n",
    "data.city = [str(city).replace('%21','') for city in data.city]\n",
    "\n",
    "# Correct cities\n",
    "data.city[data.city == 'aleandria'] = 'Alexandria'\n",
    "data.city[data.city == 'anandale'] = 'annandale'\n",
    "data.city[data.city == 'arliington'] = 'arlington'\n",
    "data.city[data.city == 'arlilngton'] = 'arlington'\n",
    "data.city[data.city == 'aspin'] = 'aspen'\n",
    "data.city[data.city == 'betheda'] = 'bethesda'\n",
    "data.city[data.city == 'hyattsvile'] = 'hyattsville'\n",
    "data.city[data.city == 'hyattsvelle'] = 'hyattsville'\n",
    "data.city[data.city == 'hyatsville'] = 'hyattsville'\n",
    "data.city[data.city == 'w'] = 'washingtondc'\n",
    "data.city[data.city == 'wahsington'] = 'washingtondc'\n",
    "data.city[data.city == 'wash'] = 'washingtondc'\n",
    "data.city[data.city == 'washigton'] = 'washingtondc'\n",
    "data.city[data.city == 'washingon'] = 'washingtondc'\n",
    "data.city[data.city == 'washinnton'] = 'washingtondc'\n",
    "data.city[data.city == 'washinton'] = 'washingtondc'\n",
    "data.city[data.city == 'washiongton'] = 'washingtondc'\n",
    "data.city[data.city == 'dc'] = 'washingtondc'\n",
    "data.city[data.city == 'district'] = 'washingtondc'\n",
    "data.city[data.city == 'washington'] = 'washingtondc'\n",
    "data.city[data.city == 'woodbrige'] = 'woodbridge'\n",
    "data.city[data.city ==  'forstville'] = 'forestville'\n",
    "data.city[data.city ==  'gathersburg'] = 'gaithersburg'\n",
    "data.city[data.city ==  'germatnown'] = 'germantown'\n",
    "data.city[data.city == 'springfiel'] = 'springfield'\n",
    "data.city[data.city == 'rockvillenorth'] = 'rockville'\n",
    "data.city[data.city == 'nw'] = 'northwest'\n",
    "data.city[data.city == 'norht'] = 'north'\n",
    "data.city[data.city == 'mt'] = 'mount'"
   ]
  },
  {
   "cell_type": "code",
   "execution_count": 92,
   "metadata": {
    "collapsed": false
   },
   "outputs": [
    {
     "name": "stderr",
     "output_type": "stream",
     "text": [
      "c:\\Users\\alsherman\\AppData\\Local\\Continuum\\Anaconda\\lib\\site-packages\\IPython\\kernel\\__main__.py:12: SettingWithCopyWarning: \n",
      "A value is trying to be set on a copy of a slice from a DataFrame\n",
      "\n",
      "See the the caveats in the documentation: http://pandas.pydata.org/pandas-docs/stable/indexing.html#indexing-view-versus-copy\n",
      "c:\\Users\\alsherman\\AppData\\Local\\Continuum\\Anaconda\\lib\\site-packages\\IPython\\kernel\\__main__.py:13: SettingWithCopyWarning: \n",
      "A value is trying to be set on a copy of a slice from a DataFrame\n",
      "\n",
      "See the the caveats in the documentation: http://pandas.pydata.org/pandas-docs/stable/indexing.html#indexing-view-versus-copy\n",
      "c:\\Users\\alsherman\\AppData\\Local\\Continuum\\Anaconda\\lib\\site-packages\\IPython\\kernel\\__main__.py:14: SettingWithCopyWarning: \n",
      "A value is trying to be set on a copy of a slice from a DataFrame\n",
      "\n",
      "See the the caveats in the documentation: http://pandas.pydata.org/pandas-docs/stable/indexing.html#indexing-view-versus-copy\n",
      "c:\\Users\\alsherman\\AppData\\Local\\Continuum\\Anaconda\\lib\\site-packages\\IPython\\kernel\\__main__.py:15: SettingWithCopyWarning: \n",
      "A value is trying to be set on a copy of a slice from a DataFrame\n",
      "\n",
      "See the the caveats in the documentation: http://pandas.pydata.org/pandas-docs/stable/indexing.html#indexing-view-versus-copy\n"
     ]
    }
   ],
   "source": [
    "# Clean up mispelled states and combine similarly spelled states\n",
    "\n",
    "# Turn all cities to lower case\n",
    "data.state = [str(state).lower() for state in data.state]\n",
    "\n",
    "# Replace encodings with empty strings\n",
    "data.state = [str(state).replace('%2e','') for state in data.state]\n",
    "data.state = [str(state).replace('%2ec','') for state in data.state]\n",
    "data.state = [str(state).replace('%2f','') for state in data.state]\n",
    "\n",
    "# Correct states\n",
    "data.state[data.state == 'arlington'] = 'State_Arlington' #to avoid both a city and state called arlington\n",
    "data.state[data.state == 'bethesdarockville'] = 'bethesda'\n",
    "data.state[data.state == 'bethsda'] = 'bethesda'\n",
    "data.state[data.state == 'd'] = 'dc'\n",
    "\n"
   ]
  }
 ],
 "metadata": {
  "kernelspec": {
   "display_name": "Python 2",
   "language": "python",
   "name": "python2"
  },
  "language_info": {
   "codemirror_mode": {
    "name": "ipython",
    "version": 2
   },
   "file_extension": ".py",
   "mimetype": "text/x-python",
   "name": "python",
   "nbconvert_exporter": "python",
   "pygments_lexer": "ipython2",
   "version": "2.7.8"
  }
 },
 "nbformat": 4,
 "nbformat_minor": 0
}
