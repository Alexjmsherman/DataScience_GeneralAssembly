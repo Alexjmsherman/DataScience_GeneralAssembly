{
 "metadata": {
  "name": "",
  "signature": "sha256:e52722914926a17b16680cc3bc94dc7de814842310904c2b439dcada9af5380d"
 },
 "nbformat": 3,
 "nbformat_minor": 0,
 "worksheets": [
  {
   "cells": [
    {
     "cell_type": "code",
     "collapsed": false,
     "input": [
      "import pandas as pd\n",
      "import matplotlib.pyplot as plt\n",
      "%matplotlib inline  "
     ],
     "language": "python",
     "metadata": {},
     "outputs": [],
     "prompt_number": 9
    },
    {
     "cell_type": "code",
     "collapsed": false,
     "input": [
      "data = pd.read_csv(r'C:\\Users\\alsherman\\Desktop\\GitHub\\DataScience_GeneralAssembly\\Data\\Craigslist_Data_Apr_24.csv')"
     ],
     "language": "python",
     "metadata": {},
     "outputs": [],
     "prompt_number": 60
    },
    {
     "cell_type": "code",
     "collapsed": false,
     "input": [
      "for col in data.columns:\n",
      "    print col"
     ],
     "language": "python",
     "metadata": {},
     "outputs": [
      {
       "output_type": "stream",
       "stream": "stdout",
       "text": [
        "Unnamed: 0\n",
        "city\n",
        "country\n",
        "latitude\n",
        "location_data_accuracy\n",
        "longitude\n",
        "state\n",
        "availability\n",
        "average_image_size\n",
        "bathroom\n",
        "bedroom\n",
        "cat\n",
        "date_available\n",
        "description\n",
        "dog\n",
        "housing_type\n",
        "image_number\n",
        "laundry\n",
        "parking\n",
        "price\n",
        "smoking\n",
        "square_footage\n",
        "url\n"
       ]
      }
     ],
     "prompt_number": 120
    },
    {
     "cell_type": "code",
     "collapsed": false,
     "input": [
      "data[0:1]"
     ],
     "language": "python",
     "metadata": {},
     "outputs": [
      {
       "html": [
        "<div style=\"max-height:1000px;max-width:1500px;overflow:auto;\">\n",
        "<table border=\"1\" class=\"dataframe\">\n",
        "  <thead>\n",
        "    <tr style=\"text-align: right;\">\n",
        "      <th></th>\n",
        "      <th>Unnamed: 0</th>\n",
        "      <th>city</th>\n",
        "      <th>country</th>\n",
        "      <th>latitude</th>\n",
        "      <th>location_data_accuracy</th>\n",
        "      <th>longitude</th>\n",
        "      <th>state</th>\n",
        "      <th>availability</th>\n",
        "      <th>average_image_size</th>\n",
        "      <th>bathroom</th>\n",
        "      <th>...</th>\n",
        "      <th>description</th>\n",
        "      <th>dog</th>\n",
        "      <th>housing_type</th>\n",
        "      <th>image_number</th>\n",
        "      <th>laundry</th>\n",
        "      <th>parking</th>\n",
        "      <th>price</th>\n",
        "      <th>smoking</th>\n",
        "      <th>square_footage</th>\n",
        "      <th>url</th>\n",
        "    </tr>\n",
        "  </thead>\n",
        "  <tbody>\n",
        "    <tr>\n",
        "      <th>0</th>\n",
        "      <td>4995075710</td>\n",
        "      <td>Arlington</td>\n",
        "      <td>US</td>\n",
        "      <td>38.859727</td>\n",
        "      <td>10</td>\n",
        "      <td>-77.055584</td>\n",
        "      <td>VA</td>\n",
        "      <td>available now</td>\n",
        "      <td>54000</td>\n",
        "      <td>1</td>\n",
        "      <td>...</td>\n",
        "      <td>\\r\\n CALL US TODAY! \\r\\nshow contact info\\r\\nx...</td>\n",
        "      <td>dogs are OK - wooof</td>\n",
        "      <td>apartment</td>\n",
        "      <td>5</td>\n",
        "      <td>w/d in unit</td>\n",
        "      <td>attached garage</td>\n",
        "      <td>1625</td>\n",
        "      <td>no smoking</td>\n",
        "      <td>539</td>\n",
        "      <td>http://washingtondc.craigslist.org/nva/apa/499...</td>\n",
        "    </tr>\n",
        "  </tbody>\n",
        "</table>\n",
        "<p>1 rows \u00d7 23 columns</p>\n",
        "</div>"
       ],
       "metadata": {},
       "output_type": "pyout",
       "prompt_number": 124,
       "text": [
        "   Unnamed: 0       city country   latitude  location_data_accuracy  \\\n",
        "0  4995075710  Arlington      US  38.859727                      10   \n",
        "\n",
        "   longitude state   availability  average_image_size  bathroom  \\\n",
        "0 -77.055584    VA  available now               54000         1   \n",
        "\n",
        "                         ...                          \\\n",
        "0                        ...                           \n",
        "\n",
        "                                         description                  dog  \\\n",
        "0  \\r\\n CALL US TODAY! \\r\\nshow contact info\\r\\nx...  dogs are OK - wooof   \n",
        "\n",
        "  housing_type image_number      laundry          parking  price     smoking  \\\n",
        "0    apartment            5  w/d in unit  attached garage   1625  no smoking   \n",
        "\n",
        "  square_footage                                                url  \n",
        "0            539  http://washingtondc.craigslist.org/nva/apa/499...  \n",
        "\n",
        "[1 rows x 23 columns]"
       ]
      }
     ],
     "prompt_number": 124
    },
    {
     "cell_type": "code",
     "collapsed": false,
     "input": [
      "# Remove dollar symbol from price to change string to integer\n",
      "data.price = [int(price.replace('$','')) for price in data.price]\n",
      "# Remove outliers - possible data input mistakes from users\n",
      "data = data[data.price < 10000]"
     ],
     "language": "python",
     "metadata": {},
     "outputs": [
      {
       "ename": "AttributeError",
       "evalue": "'numpy.int64' object has no attribute 'replace'",
       "output_type": "pyerr",
       "traceback": [
        "\u001b[1;31m---------------------------------------------------------------------------\u001b[0m\n\u001b[1;31mAttributeError\u001b[0m                            Traceback (most recent call last)",
        "\u001b[1;32m<ipython-input-79-cceb8b7f22d7>\u001b[0m in \u001b[0;36m<module>\u001b[1;34m()\u001b[0m\n\u001b[0;32m      1\u001b[0m \u001b[1;31m# Remove dollar symbol from price to change string to integer\u001b[0m\u001b[1;33m\u001b[0m\u001b[1;33m\u001b[0m\u001b[0m\n\u001b[1;32m----> 2\u001b[1;33m \u001b[0mdata\u001b[0m\u001b[1;33m.\u001b[0m\u001b[0mprice\u001b[0m \u001b[1;33m=\u001b[0m \u001b[1;33m[\u001b[0m\u001b[0mint\u001b[0m\u001b[1;33m(\u001b[0m\u001b[0mprice\u001b[0m\u001b[1;33m.\u001b[0m\u001b[0mreplace\u001b[0m\u001b[1;33m(\u001b[0m\u001b[1;34m'$'\u001b[0m\u001b[1;33m,\u001b[0m\u001b[1;34m''\u001b[0m\u001b[1;33m)\u001b[0m\u001b[1;33m)\u001b[0m \u001b[1;32mfor\u001b[0m \u001b[0mprice\u001b[0m \u001b[1;32min\u001b[0m \u001b[0mdata\u001b[0m\u001b[1;33m.\u001b[0m\u001b[0mprice\u001b[0m\u001b[1;33m]\u001b[0m\u001b[1;33m\u001b[0m\u001b[0m\n\u001b[0m\u001b[0;32m      3\u001b[0m \u001b[1;31m# Remove outliers - possible data input mistakes from users\u001b[0m\u001b[1;33m\u001b[0m\u001b[1;33m\u001b[0m\u001b[0m\n\u001b[0;32m      4\u001b[0m \u001b[0mdata\u001b[0m \u001b[1;33m=\u001b[0m \u001b[0mdata\u001b[0m\u001b[1;33m[\u001b[0m\u001b[0mdata\u001b[0m\u001b[1;33m.\u001b[0m\u001b[0mprice\u001b[0m \u001b[1;33m<\u001b[0m \u001b[1;36m10000\u001b[0m\u001b[1;33m]\u001b[0m\u001b[1;33m\u001b[0m\u001b[0m\n",
        "\u001b[1;31mAttributeError\u001b[0m: 'numpy.int64' object has no attribute 'replace'"
       ]
      }
     ],
     "prompt_number": 79
    },
    {
     "cell_type": "code",
     "collapsed": false,
     "input": [
      "data.describe()"
     ],
     "language": "python",
     "metadata": {},
     "outputs": [
      {
       "html": [
        "<div style=\"max-height:1000px;max-width:1500px;overflow:auto;\">\n",
        "<table border=\"1\" class=\"dataframe\">\n",
        "  <thead>\n",
        "    <tr style=\"text-align: right;\">\n",
        "      <th></th>\n",
        "      <th>Unnamed: 0</th>\n",
        "      <th>latitude</th>\n",
        "      <th>location_data_accuracy</th>\n",
        "      <th>longitude</th>\n",
        "      <th>average_image_size</th>\n",
        "      <th>bathroom</th>\n",
        "      <th>bedroom</th>\n",
        "      <th>image_number</th>\n",
        "      <th>price</th>\n",
        "      <th>square_footage</th>\n",
        "    </tr>\n",
        "  </thead>\n",
        "  <tbody>\n",
        "    <tr>\n",
        "      <th>count</th>\n",
        "      <td>9.800000e+01</td>\n",
        "      <td>70.000000</td>\n",
        "      <td>70.00000</td>\n",
        "      <td>70.000000</td>\n",
        "      <td>98.000000</td>\n",
        "      <td>91.000000</td>\n",
        "      <td>98.000000</td>\n",
        "      <td>98.000000</td>\n",
        "      <td>98.000000</td>\n",
        "      <td>62.000000</td>\n",
        "    </tr>\n",
        "    <tr>\n",
        "      <th>mean</th>\n",
        "      <td>4.985961e+09</td>\n",
        "      <td>38.825791</td>\n",
        "      <td>3.90000</td>\n",
        "      <td>-77.186635</td>\n",
        "      <td>38319.897959</td>\n",
        "      <td>1.791209</td>\n",
        "      <td>2.224490</td>\n",
        "      <td>7.418367</td>\n",
        "      <td>1782.857143</td>\n",
        "      <td>1175.338710</td>\n",
        "    </tr>\n",
        "    <tr>\n",
        "      <th>std</th>\n",
        "      <td>1.217442e+07</td>\n",
        "      <td>0.112398</td>\n",
        "      <td>6.75267</td>\n",
        "      <td>0.138570</td>\n",
        "      <td>35298.732501</td>\n",
        "      <td>0.875804</td>\n",
        "      <td>1.439721</td>\n",
        "      <td>6.520267</td>\n",
        "      <td>586.407216</td>\n",
        "      <td>613.006377</td>\n",
        "    </tr>\n",
        "    <tr>\n",
        "      <th>min</th>\n",
        "      <td>4.951053e+09</td>\n",
        "      <td>38.471800</td>\n",
        "      <td>0.00000</td>\n",
        "      <td>-77.570228</td>\n",
        "      <td>0.000000</td>\n",
        "      <td>1.000000</td>\n",
        "      <td>0.000000</td>\n",
        "      <td>0.000000</td>\n",
        "      <td>600.000000</td>\n",
        "      <td>539.000000</td>\n",
        "    </tr>\n",
        "    <tr>\n",
        "      <th>25%</th>\n",
        "      <td>4.981151e+09</td>\n",
        "      <td>38.805111</td>\n",
        "      <td>0.00000</td>\n",
        "      <td>-77.267642</td>\n",
        "      <td>12418.250000</td>\n",
        "      <td>1.000000</td>\n",
        "      <td>1.000000</td>\n",
        "      <td>3.000000</td>\n",
        "      <td>1350.000000</td>\n",
        "      <td>740.250000</td>\n",
        "    </tr>\n",
        "    <tr>\n",
        "      <th>50%</th>\n",
        "      <td>4.990983e+09</td>\n",
        "      <td>38.854895</td>\n",
        "      <td>0.00000</td>\n",
        "      <td>-77.123650</td>\n",
        "      <td>30000.000000</td>\n",
        "      <td>2.000000</td>\n",
        "      <td>2.000000</td>\n",
        "      <td>6.000000</td>\n",
        "      <td>1699.500000</td>\n",
        "      <td>1046.500000</td>\n",
        "    </tr>\n",
        "    <tr>\n",
        "      <th>75%</th>\n",
        "      <td>4.994960e+09</td>\n",
        "      <td>38.879874</td>\n",
        "      <td>10.00000</td>\n",
        "      <td>-77.086406</td>\n",
        "      <td>54000.000000</td>\n",
        "      <td>2.250000</td>\n",
        "      <td>3.000000</td>\n",
        "      <td>10.750000</td>\n",
        "      <td>2046.250000</td>\n",
        "      <td>1350.250000</td>\n",
        "    </tr>\n",
        "    <tr>\n",
        "      <th>max</th>\n",
        "      <td>4.995076e+09</td>\n",
        "      <td>39.107696</td>\n",
        "      <td>22.00000</td>\n",
        "      <td>-77.030037</td>\n",
        "      <td>135000.000000</td>\n",
        "      <td>4.500000</td>\n",
        "      <td>5.000000</td>\n",
        "      <td>24.000000</td>\n",
        "      <td>3500.000000</td>\n",
        "      <td>3470.000000</td>\n",
        "    </tr>\n",
        "  </tbody>\n",
        "</table>\n",
        "</div>"
       ],
       "metadata": {},
       "output_type": "pyout",
       "prompt_number": 89,
       "text": [
        "         Unnamed: 0   latitude  location_data_accuracy  longitude  \\\n",
        "count  9.800000e+01  70.000000                70.00000  70.000000   \n",
        "mean   4.985961e+09  38.825791                 3.90000 -77.186635   \n",
        "std    1.217442e+07   0.112398                 6.75267   0.138570   \n",
        "min    4.951053e+09  38.471800                 0.00000 -77.570228   \n",
        "25%    4.981151e+09  38.805111                 0.00000 -77.267642   \n",
        "50%    4.990983e+09  38.854895                 0.00000 -77.123650   \n",
        "75%    4.994960e+09  38.879874                10.00000 -77.086406   \n",
        "max    4.995076e+09  39.107696                22.00000 -77.030037   \n",
        "\n",
        "       average_image_size   bathroom    bedroom  image_number        price  \\\n",
        "count           98.000000  91.000000  98.000000     98.000000    98.000000   \n",
        "mean         38319.897959   1.791209   2.224490      7.418367  1782.857143   \n",
        "std          35298.732501   0.875804   1.439721      6.520267   586.407216   \n",
        "min              0.000000   1.000000   0.000000      0.000000   600.000000   \n",
        "25%          12418.250000   1.000000   1.000000      3.000000  1350.000000   \n",
        "50%          30000.000000   2.000000   2.000000      6.000000  1699.500000   \n",
        "75%          54000.000000   2.250000   3.000000     10.750000  2046.250000   \n",
        "max         135000.000000   4.500000   5.000000     24.000000  3500.000000   \n",
        "\n",
        "       square_footage  \n",
        "count       62.000000  \n",
        "mean      1175.338710  \n",
        "std        613.006377  \n",
        "min        539.000000  \n",
        "25%        740.250000  \n",
        "50%       1046.500000  \n",
        "75%       1350.250000  \n",
        "max       3470.000000  "
       ]
      }
     ],
     "prompt_number": 89
    },
    {
     "cell_type": "code",
     "collapsed": false,
     "input": [
      "data.price.hist(by=data.bedroom, sharey=True,sharex=True, layout=(2,3))   # change layout (new in pandas 0.15.0)"
     ],
     "language": "python",
     "metadata": {},
     "outputs": [
      {
       "metadata": {},
       "output_type": "pyout",
       "prompt_number": 143,
       "text": [
        "array([[<matplotlib.axes._subplots.AxesSubplot object at 0x000000000EE0A400>,\n",
        "        <matplotlib.axes._subplots.AxesSubplot object at 0x0000000017B98208>,\n",
        "        <matplotlib.axes._subplots.AxesSubplot object at 0x0000000017C4E828>],\n",
        "       [<matplotlib.axes._subplots.AxesSubplot object at 0x0000000013FFE588>,\n",
        "        <matplotlib.axes._subplots.AxesSubplot object at 0x0000000017DABFD0>,\n",
        "        <matplotlib.axes._subplots.AxesSubplot object at 0x0000000017E765C0>]], dtype=object)"
       ]
      },
      {
       "metadata": {},
       "output_type": "display_data",
       "png": "[encoded data removed]",
       "text": [
        "<matplotlib.figure.Figure at 0x1550a240>"
       ]
      }
     ],
     "prompt_number": 143
    },
    {
     "cell_type": "code",
     "collapsed": false,
     "input": [
      "data.plot(kind='scatter', x='price', y='square_footage')"
     ],
     "language": "python",
     "metadata": {},
     "outputs": [
      {
       "metadata": {},
       "output_type": "pyout",
       "prompt_number": 116,
       "text": [
        "<matplotlib.axes._subplots.AxesSubplot at 0xd4cf9e8>"
       ]
      },
      {
       "metadata": {},
       "output_type": "display_data",
       "png": "[encoded data removed]",
       "text": [
        "<matplotlib.figure.Figure at 0x10d98128>"
       ]
      }
     ],
     "prompt_number": 116
    },
    {
     "cell_type": "code",
     "collapsed": false,
     "input": [
      "data.plot(kind='scatter', x='price', y='image_number')"
     ],
     "language": "python",
     "metadata": {},
     "outputs": [
      {
       "metadata": {},
       "output_type": "pyout",
       "prompt_number": 117,
       "text": [
        "<matplotlib.axes._subplots.AxesSubplot at 0x11565668>"
       ]
      },
      {
       "metadata": {},
       "output_type": "display_data",
       "png": "[encoded data removed]",
       "text": [
        "<matplotlib.figure.Figure at 0xedc9940>"
       ]
      }
     ],
     "prompt_number": 117
    },
    {
     "cell_type": "code",
     "collapsed": false,
     "input": [
      "data.plot(kind='scatter', x='price', y='average_image_size')"
     ],
     "language": "python",
     "metadata": {},
     "outputs": [
      {
       "metadata": {},
       "output_type": "pyout",
       "prompt_number": 118,
       "text": [
        "<matplotlib.axes._subplots.AxesSubplot at 0xed1a6d8>"
       ]
      },
      {
       "metadata": {},
       "output_type": "display_data",
       "png": "[encoded data removed]",
       "text": [
        "<matplotlib.figure.Figure at 0x12258400>"
       ]
      }
     ],
     "prompt_number": 118
    },
    {
     "cell_type": "code",
     "collapsed": false,
     "input": [
      "#data.groupby(data.city).price.plot(kind='bar')\n",
      "data.price.hist(by=data.smoking)"
     ],
     "language": "python",
     "metadata": {},
     "outputs": [
      {
       "ename": "AttributeError",
       "evalue": "'AxesSubplot' object has no attribute 'ndim'",
       "output_type": "pyerr",
       "traceback": [
        "\u001b[1;31m---------------------------------------------------------------------------\u001b[0m\n\u001b[1;31mAttributeError\u001b[0m                            Traceback (most recent call last)",
        "\u001b[1;32m<ipython-input-125-94a0ac5dc3fe>\u001b[0m in \u001b[0;36m<module>\u001b[1;34m()\u001b[0m\n\u001b[0;32m      1\u001b[0m \u001b[1;31m#data.groupby(data.city).price.plot(kind='bar')\u001b[0m\u001b[1;33m\u001b[0m\u001b[1;33m\u001b[0m\u001b[0m\n\u001b[1;32m----> 2\u001b[1;33m \u001b[0mdata\u001b[0m\u001b[1;33m.\u001b[0m\u001b[0mprice\u001b[0m\u001b[1;33m.\u001b[0m\u001b[0mhist\u001b[0m\u001b[1;33m(\u001b[0m\u001b[0mby\u001b[0m\u001b[1;33m=\u001b[0m\u001b[0mdata\u001b[0m\u001b[1;33m.\u001b[0m\u001b[0msmoking\u001b[0m\u001b[1;33m)\u001b[0m\u001b[1;33m\u001b[0m\u001b[0m\n\u001b[0m",
        "\u001b[1;32mc:\\Users\\alsherman\\AppData\\Local\\Continuum\\Anaconda\\lib\\site-packages\\pandas-0.16.0-py2.7-win-amd64.egg\\pandas\\tools\\plotting.pyc\u001b[0m in \u001b[0;36mhist_series\u001b[1;34m(self, by, ax, grid, xlabelsize, xrot, ylabelsize, yrot, figsize, bins, **kwds)\u001b[0m\n\u001b[0;32m   2841\u001b[0m                             **kwds)\n\u001b[0;32m   2842\u001b[0m \u001b[1;33m\u001b[0m\u001b[0m\n\u001b[1;32m-> 2843\u001b[1;33m     \u001b[1;32mif\u001b[0m \u001b[0maxes\u001b[0m\u001b[1;33m.\u001b[0m\u001b[0mndim\u001b[0m \u001b[1;33m==\u001b[0m \u001b[1;36m1\u001b[0m \u001b[1;32mand\u001b[0m \u001b[0mlen\u001b[0m\u001b[1;33m(\u001b[0m\u001b[0maxes\u001b[0m\u001b[1;33m)\u001b[0m \u001b[1;33m==\u001b[0m \u001b[1;36m1\u001b[0m\u001b[1;33m:\u001b[0m\u001b[1;33m\u001b[0m\u001b[0m\n\u001b[0m\u001b[0;32m   2844\u001b[0m         \u001b[1;32mreturn\u001b[0m \u001b[0maxes\u001b[0m\u001b[1;33m[\u001b[0m\u001b[1;36m0\u001b[0m\u001b[1;33m]\u001b[0m\u001b[1;33m\u001b[0m\u001b[0m\n\u001b[0;32m   2845\u001b[0m     \u001b[1;32mreturn\u001b[0m \u001b[0maxes\u001b[0m\u001b[1;33m\u001b[0m\u001b[0m\n",
        "\u001b[1;31mAttributeError\u001b[0m: 'AxesSubplot' object has no attribute 'ndim'"
       ]
      },
      {
       "metadata": {},
       "output_type": "display_data",
       "png": "[encoded data removed]",
       "text": [
        "<matplotlib.figure.Figure at 0x12a3ecf8>"
       ]
      }
     ],
     "prompt_number": 125
    },
    {
     "cell_type": "code",
     "collapsed": false,
     "input": [
      "data.price.hist()"
     ],
     "language": "python",
     "metadata": {},
     "outputs": [
      {
       "metadata": {},
       "output_type": "pyout",
       "prompt_number": 128,
       "text": [
        "<matplotlib.axes._subplots.AxesSubplot at 0x12a1f668>"
       ]
      },
      {
       "metadata": {},
       "output_type": "display_data",
       "png": "[encoded data removed]",
       "text": [
        "<matplotlib.figure.Figure at 0x112875f8>"
       ]
      }
     ],
     "prompt_number": 128
    },
    {
     "cell_type": "code",
     "collapsed": false,
     "input": [
      "data.average_image_size.hist()"
     ],
     "language": "python",
     "metadata": {},
     "outputs": [
      {
       "metadata": {},
       "output_type": "pyout",
       "prompt_number": 11,
       "text": [
        "<matplotlib.axes._subplots.AxesSubplot at 0xc9204e0>"
       ]
      },
      {
       "metadata": {},
       "output_type": "display_data",
       "png": "[encoded data removed]",
       "text": [
        "<matplotlib.figure.Figure at 0xc90b278>"
       ]
      }
     ],
     "prompt_number": 11
    },
    {
     "cell_type": "code",
     "collapsed": false,
     "input": [],
     "language": "python",
     "metadata": {},
     "outputs": []
    }
   ],
   "metadata": {}
  }
 ]
}