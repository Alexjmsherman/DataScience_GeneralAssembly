{
 "cells": [
  {
   "cell_type": "code",
   "execution_count": null,
   "metadata": {
    "collapsed": true
   },
   "outputs": [],
   "source": [
    "import requests # Helps construct the request to send to the API\n",
    "import json # JSON helper functions\n",
    "from bs4 import BeautifulSoup"
   ]
  },
  {
   "cell_type": "code",
   "execution_count": null,
   "metadata": {
    "collapsed": true
   },
   "outputs": [],
   "source": [
    "#get data from craigslist\n",
    "\n",
    "url = 'http://washingtondc.craigslist.org/nva/apa/4964060272.html'\n",
    "\n",
    "# Make the request\n",
    "response = requests.post(url)\n",
    "\n",
    "# Confirm the response worked\n",
    "response.status_code"
   ]
  },
  {
   "cell_type": "code",
   "execution_count": null,
   "metadata": {
    "collapsed": true
   },
   "outputs": [],
   "source": [
    "soup = BeautifulSoup(response.text)\n",
    "print(soup.prettify())"
   ]
  },
  {
   "cell_type": "code",
   "execution_count": null,
   "metadata": {
    "collapsed": true
   },
   "outputs": [],
   "source": [
    "#get attributes about property - preset choices from craigslist\n",
    "attribute_list = {}\n",
    "\n",
    "x = soup.find('p',class_='attrgroup').find_all('span')\n",
    "for attribute in x:\n",
    "\n",
    "    if 'BR' in attribute.text:\n",
    "        attribute_list['bedroom'] = attribute.text.split('/')[0].replace('BR','')\n",
    "    if 'Ba' in attribute.text:\n",
    "        attribute_list['bathroom'] = attribute.text.split('/')[1].replace('Ba','')\n",
    "    if 'ft' in attribute.text:\n",
    "        attribute_list['square_footage'] = attribute.text.replace('ft2','')\n",
    "    if attribute.text in ['apartment', 'condo', 'cottage/cabin', 'duplex', 'flat', \n",
    "        'house', 'in-law', 'loft', 'townhouse','manufactured', 'assisted living', 'land']:\n",
    "        attribute_list['housing_type'] = attribute.text\n",
    "    if 'cat' in attribute.text:\n",
    "        attribute_list['cat'] = attribute.text\n",
    "    if 'dog' in attribute.text:\n",
    "        attribute_list['dog'] = attribute.text\n",
    "    if attribute.text in ['w/d in unit','laundry in bldg','laundry on site','w/d hookups']:\n",
    "        attribute_list['laundry'] = attribute.text \n",
    "    if attribute.text in ['carport', 'attached garage', 'detached garage',  'off-street parking', 'street parking', 'valet parking']:\n",
    "        attribute_list['parking'] = attribute.text\n",
    "    if 'smoking' in attribute.text:\n",
    "        attribute_list['smoking'] = attribute.text\n",
    "\n",
    "attribute_list['availability'] = soup.find('span', class_='housing_movein_now property_date')['today_msg']\n",
    "attribute_list['data_available'] = soup.find('span', class_='housing_movein_now property_date')['date']\n",
    "\n",
    "attribute_list"
   ]
  },
  {
   "cell_type": "code",
   "execution_count": null,
   "metadata": {
    "collapsed": true
   },
   "outputs": [],
   "source": [
    "soup.find('title')"
   ]
  },
  {
   "cell_type": "code",
   "execution_count": null,
   "metadata": {
    "collapsed": true
   },
   "outputs": [],
   "source": [
    "x = soup.find_all('h2')\n",
    "for i in x:\n",
    "    print i"
   ]
  },
  {
   "cell_type": "code",
   "execution_count": null,
   "metadata": {
    "collapsed": true
   },
   "outputs": [],
   "source": [
    "#get the listing price\n",
    "x = soup.find('h2')\n",
    "print x.contents[3].text"
   ]
  },
  {
   "cell_type": "code",
   "execution_count": null,
   "metadata": {
    "collapsed": true
   },
   "outputs": [],
   "source": [
    "#get the number of bedrooms\n",
    "x = soup.find('h2')\n",
    "print x.contents[5].text.split('-')[0].replace('/','')"
   ]
  },
  {
   "cell_type": "code",
   "execution_count": null,
   "metadata": {
    "collapsed": true
   },
   "outputs": [],
   "source": [
    "#get the square footage of the listing\n",
    "x = soup.find('h2')\n",
    "print x.contents[5].text.split('-')[1][0:-2] #remove extra characters at start of string and '2' at end for square ft"
   ]
  },
  {
   "cell_type": "code",
   "execution_count": null,
   "metadata": {
    "collapsed": true
   },
   "outputs": [],
   "source": [
    "#Create a list of dicts containing image number, image link, and image size\n",
    "image_data = []\n",
    "\n",
    "images = soup.find('figure').find_all('div')\n",
    "for pic in images[-1]:    \n",
    "    pic_dict = {}\n",
    "    pic_dict['image_number'] = pic['title']\n",
    "    pic_dict['href'] = pic['href']\n",
    "    pic_dict['image_size'] = pic['href'].split('_')[-1]\n",
    "    \n",
    "    image_data.append(pic_dict)\n",
    "\n",
    "image_data"
   ]
  },
  {
   "cell_type": "code",
   "execution_count": null,
   "metadata": {
    "collapsed": true
   },
   "outputs": [],
   "source": [
    "#create a dict with  location data: country, state, city, address, longitude, latitude, and location accuracy metric\n",
    "\n",
    "#get longitude, latitude, and location accuracy metric\n",
    "location = soup.find('div', class_='viewposting')\n",
    "location_data_accuracy = soup.find('div', class_='viewposting')['data-accuracy']\n",
    "latitude = soup.find('div', class_='viewposting')['data-latitude']\n",
    "longitude = soup.find('div', class_='viewposting')['data-longitude']\n",
    "\n",
    "#get country, state, city\n",
    "map = soup.find('p', class_='mapaddress').find_all('a')[1]['href'] #get yahoo maps link - easier to extract data than google maps\n",
    "country = map.split('country=')[1]\n",
    "state = map.split('csz=')[1].split('&')[0].split('+')[1]\n",
    "city  = map.split('csz=')[1].split('&')[0].split('+')[0]\n",
    "\n",
    "#get address\n",
    "address = soup.find('div', class_='mapaddress').text\n",
    "\n",
    "#place all location data into dict\n",
    "location_dict = {}\n",
    "location_dict['location_data_accuracy'] = location_data_accuracy\n",
    "location_dict['latitude'] = latitude\n",
    "location_dict['longitude'] = longitude\n",
    "location_dict['country'] = country\n",
    "location_dict['state'] = state\n",
    "location_dict['city'] = city\n",
    "location_dict['address'] = address\n",
    "\n",
    "location_dict"
   ]
  },
  {
   "cell_type": "code",
   "execution_count": null,
   "metadata": {
    "collapsed": true
   },
   "outputs": [],
   "source": [
    "#get the written user description of the listing\n",
    "listing_description = soup.find('section', class_='userbody').find('section')\n",
    "\n",
    "print listing_description.text"
   ]
  }
 ],
 "metadata": {
  "kernelspec": {
   "display_name": "Python 2",
   "language": "python",
   "name": "python2"
  },
  "language_info": {
   "codemirror_mode": {
    "name": "ipython",
    "version": 2
   },
   "file_extension": ".py",
   "mimetype": "text/x-python",
   "name": "python",
   "nbconvert_exporter": "python",
   "pygments_lexer": "ipython2",
   "version": "2.7.6"
  }
 },
 "nbformat": 4,
 "nbformat_minor": 0
}
