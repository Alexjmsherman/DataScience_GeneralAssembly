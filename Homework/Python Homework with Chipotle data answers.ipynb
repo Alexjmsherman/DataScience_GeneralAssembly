{
 "metadata": {
  "kernelspec": {
   "display_name": "Python 2",
   "language": "python",
   "name": "python2"
  },
  "language_info": {
   "codemirror_mode": {
    "name": "ipython",
    "version": 2
   },
   "file_extension": ".py",
   "mimetype": "text/x-python",
   "name": "python",
   "nbconvert_exporter": "python",
   "pygments_lexer": "ipython2",
   "version": "2.7.6"
  },
  "name": "",
  "signature": "sha256:e77d642a68b1bfdd84f6bdced32f9c8f5d637915b212b5883469116e67f0bf53"
 },
 "nbformat": 3,
 "nbformat_minor": 0,
 "worksheets": [
  {
   "cells": [
    {
     "cell_type": "markdown",
     "metadata": {},
     "source": [
      "####Python Homework with Chipotle data\n",
      "raw data: https://github.com/TheUpshot/chipotle\n",
      "\n",
      "The following Ipython Notebook provides a detailed guide to the answers for the Chipotle data homework in General Assembly's Data Science course."
     ]
    },
    {
     "cell_type": "markdown",
     "metadata": {},
     "source": [
      "###BASIC LEVEL\n",
      "PART 1: Read in the data with csv.reader() and store it in a list of lists called 'data'.\n",
      "Hint: This is a TSV file, and csv.reader() needs to be told how to handle it."
     ]
    },
    {
     "cell_type": "code",
     "collapsed": false,
     "input": [
      "import csv #To use the csv.reader we must import the csv module.\n",
      "\n",
      "#the csv.reader has a delimeter parameter, which we set to '\\t' to indicate that the file is tab separated\n",
      "with open('chipotle.tsv', 'rU') as f: #we temporarily refer to the file by the variable name f for file.  \n",
      "    data = [row for row in csv.reader(f, delimiter='\\t')] #create a list by looping through each line in f"
     ],
     "language": "python",
     "metadata": {},
     "outputs": [],
     "prompt_number": 2
    },
    {
     "cell_type": "markdown",
     "metadata": {},
     "source": [
      "#### Why use csv.reader?\n",
      "\n",
      "As stated in the CSV file reading and writing documentation: https://docs.python.org/2/library/csv.html\n",
      "\n",
      "\"there is no \u201cCSV standard\u201d, so the format is operationally defined by the many applications which \n",
      "read and write it. The lack of a standard means that subtle differences often exist in the data \n",
      "produced and consumed by different applications. These differences can make it annoying to process \n",
      "CSV files from multiple sources. Still, while the delimiters and quoting characters vary, the \n",
      "overall format is similar enough that it is possible to write a single module which can efficiently\n",
      "manipulate such data, hiding the details of reading and writing the data from the programmer.\"\n",
      "\n",
      "In other words, depending on the source, there may be intracacies in the data format. These are not always easy to distinguish - for instance, non-visible new line characters. The csv.reader package is built to handle these intracies and, thus, provides an efficient way to load data. \n",
      "\n",
      "This is why we prefer\n",
      "\n",
      "data = [row for row in csv.reader(f, delimiter='\\t')] \n",
      "\n",
      "Instead of code such as\n",
      "\n",
      "data = [row.split('/t') for row in f]"
     ]
    },
    {
     "cell_type": "markdown",
     "metadata": {},
     "source": [
      "###BASIC LEVEL\n",
      "PART 2: Separate the header and data into two different lists."
     ]
    },
    {
     "cell_type": "code",
     "collapsed": true,
     "input": [
      "header = data[0] #separate the header \n",
      "data = data[1:] #separate the data"
     ],
     "language": "python",
     "metadata": {},
     "outputs": [],
     "prompt_number": 3
    },
    {
     "cell_type": "markdown",
     "metadata": {},
     "source": [
      "###INTERMEDIATE LEVEL\n",
      "PART 3: Calculate the average price of an order.\n",
      "Hint: Examine the data to see if the 'quantity' column is relevant to this calculation.\n",
      "Hint: Think carefully about the simplest way to do this!"
     ]
    },
    {
     "cell_type": "code",
     "collapsed": false,
     "input": [
      "#We want to find the average price of an order.\n",
      "#This means we need the sum of the price of all orders and the total number of orders.\n",
      "\n",
      "#First let's loop through the data. The result is a list of lists.\n",
      "prices = [row for row in data] \n",
      "#Let's look at the first order, which spans three rows in the raw data.\n",
      "prices[0:3]"
     ],
     "language": "python",
     "metadata": {},
     "outputs": [
      {
       "metadata": {},
       "output_type": "pyout",
       "prompt_number": 4,
       "text": [
        "[['1', '1', 'Chips and Fresh Tomato Salsa', 'NULL', '$2.39 '],\n",
        " ['1', '1', 'Izze', '[Clementine]', '$3.39 '],\n",
        " ['1', '1', 'Nantucket Nectar', '[Apple]', '$3.39 ']]"
       ]
      }
     ],
     "prompt_number": 4
    },
    {
     "cell_type": "code",
     "collapsed": false,
     "input": [
      "#After exploring our data for a few minutees, we find two orders for the same item - Sprite - differing by only the quantity.\n",
      "print data[18]\n",
      "print data[53]"
     ],
     "language": "python",
     "metadata": {},
     "outputs": [
      {
       "output_type": "stream",
       "stream": "stdout",
       "text": [
        "['9', '2', 'Canned Soda', '[Sprite]', '$2.18 ']\n",
        "['24', '1', 'Canned Soda', '[Sprite]', '$1.09 ']\n"
       ]
      }
     ],
     "prompt_number": 5
    },
    {
     "cell_type": "markdown",
     "metadata": {},
     "source": [
      "#### Ignore the quantity column\n",
      "\n",
      "Above, one customer ordered one Sprite and another customer ordered two Sprites. We see that the order price field reflects the quantity ordered. Thus, to calculate the total value of all orders, we can safetly ignore the quantity column because the item price takes quantity into account"
     ]
    },
    {
     "cell_type": "code",
     "collapsed": false,
     "input": [
      "#We want the sum of all the order prices - the last item in each list. Here are two ways we could get these data:\n",
      "\n",
      "#Option 1\n",
      "prices = [row[4] for row in data] #slice to position four\n",
      "\n",
      "#Option 2\n",
      "prices = [row[-1] for row in data] #slide to the last position\n",
      "\n",
      "#Let's look at the first five results\n",
      "prices[0:5]"
     ],
     "language": "python",
     "metadata": {},
     "outputs": [
      {
       "metadata": {},
       "output_type": "pyout",
       "prompt_number": 6,
       "text": [
        "['$2.39 ', '$3.39 ', '$3.39 ', '$2.39 ', '$16.98 ']"
       ]
      }
     ],
     "prompt_number": 6
    },
    {
     "cell_type": "code",
     "collapsed": false,
     "input": [
      "#Each item in the list is a sting.  We can tell this because the results above are wrapped in quotes.\n",
      "#To confirm, let's explicity check the type of the first item in the list\n",
      "type(prices[0])"
     ],
     "language": "python",
     "metadata": {},
     "outputs": [
      {
       "metadata": {},
       "output_type": "pyout",
       "prompt_number": 8,
       "text": [
        "str"
       ]
      }
     ],
     "prompt_number": 8
    },
    {
     "cell_type": "code",
     "collapsed": false,
     "input": [
      "#Since we want to do a calculation, we need to change the type from string to float. \n",
      "#To do this, we first need to remove the $. Here are two different ways to accomplish this\n",
      "\n",
      "#Option 1\n",
      "prices = [row[4][1:] for row in data] #remove the dollar sign by slicing\n",
      "\n",
      "#Option 2\n",
      "prices = [row[4].replace('$','') for row in data] #remove the dollar sign by replacing '$' with empty strings\n",
      "\n",
      "#Let's look at the first five results\n",
      "prices[0:5]"
     ],
     "language": "python",
     "metadata": {},
     "outputs": [
      {
       "metadata": {},
       "output_type": "pyout",
       "prompt_number": 9,
       "text": [
        "['2.39 ', '3.39 ', '3.39 ', '2.39 ', '16.98 ']"
       ]
      }
     ],
     "prompt_number": 9
    },
    {
     "cell_type": "code",
     "collapsed": false,
     "input": [
      "#Now we can convert our results to a float\n",
      "prices = [float(row[4][1:]) for row in data]\n",
      "\n",
      "#Let's look at the first five results and check the type of the first item\n",
      "print prices[0:5]\n",
      "print type(prices[0])"
     ],
     "language": "python",
     "metadata": {},
     "outputs": [
      {
       "output_type": "stream",
       "stream": "stdout",
       "text": [
        "[2.39, 3.39, 3.39, 2.39, 16.98]\n",
        "<type 'float'>\n"
       ]
      }
     ],
     "prompt_number": 11
    },
    {
     "cell_type": "code",
     "collapsed": false,
     "input": [
      "#Finally, we create our total order sum with the built-in sum function\n",
      "total_order_sum = sum([float(row[4][1:]) for row in data]) \n",
      "total_order_sum"
     ],
     "language": "python",
     "metadata": {},
     "outputs": [
      {
       "metadata": {},
       "output_type": "pyout",
       "prompt_number": 14,
       "text": [
        "34500.16000000046"
       ]
      }
     ],
     "prompt_number": 14
    },
    {
     "cell_type": "code",
     "collapsed": false,
     "input": [
      "#Now we need to get the total number of orders\n",
      "#We can look at the last item in the list\n",
      "print header #Also printing the header as a reminder of what data is in each field\n",
      "print data[-1]"
     ],
     "language": "python",
     "metadata": {},
     "outputs": [
      {
       "output_type": "stream",
       "stream": "stdout",
       "text": [
        "['order_id', 'quantity', 'item_name', 'choice_description', 'item_price']\n",
        "['1834', '1', 'Chicken Salad Bowl', '[Fresh Tomato Salsa, [Fajita Vegetables, Pinto Beans, Lettuce]]', '$8.75 ']\n"
       ]
      }
     ],
     "prompt_number": 15
    },
    {
     "cell_type": "markdown",
     "metadata": {},
     "source": [
      "#### 1834 Orders\n",
      "\n",
      "It seems that there are 1834 orders. You could assume this is 1834 since that's the maximum order_id, but it is best to check, as we are not certain that the data is clean. If the data was not sorted by order or if there was a missing order, then 1834 might not be correct.\n",
      "\n",
      "Let's confirm this assumption."
     ]
    },
    {
     "cell_type": "code",
     "collapsed": false,
     "input": [
      "#First let's build a list of the order_ids\n",
      "order_ids = [row[0] for row in data]\n",
      "\n",
      "#let's look at the first five results\n",
      "order_ids[0:5]"
     ],
     "language": "python",
     "metadata": {},
     "outputs": [
      {
       "metadata": {},
       "output_type": "pyout",
       "prompt_number": 19,
       "text": [
        "['1', '1', '1', '1', '2']"
       ]
      }
     ],
     "prompt_number": 19
    },
    {
     "cell_type": "code",
     "collapsed": false,
     "input": [
      "#We only want to count each order once. We can take the distinct order values with the set function\n",
      "num_orders = set([row[0] for row in data]) #reduces the list to only distinct order_ids (e.g. [1,1,1,1,2] becomes [1,2])\n",
      "\n",
      "#Next we add  len() to determine the number of orders\n",
      "num_orders = len(set([row[0] for row in data]))\n",
      "num_orders #the order was 1834 all along - it does not hurt that we checked though."
     ],
     "language": "python",
     "metadata": {},
     "outputs": [
      {
       "metadata": {},
       "output_type": "pyout",
       "prompt_number": 18,
       "text": [
        "1834"
       ]
      }
     ],
     "prompt_number": 18
    },
    {
     "cell_type": "code",
     "collapsed": false,
     "input": [
      "# finally we answer the question by calculating the average = total_order_sum / num_orders\n",
      "average_order_price = total_order_sum / num_orders\n",
      "average_order_price"
     ],
     "language": "python",
     "metadata": {},
     "outputs": [
      {
       "metadata": {},
       "output_type": "pyout",
       "prompt_number": 20,
       "text": [
        "18.811428571428824"
       ]
      }
     ],
     "prompt_number": 20
    },
    {
     "cell_type": "code",
     "collapsed": false,
     "input": [
      "#Let's recap by looking at the final code.\n",
      "total_order_sum = sum([float(row[4][1:]) for row in data])\n",
      "num_orders = len(set([row[0] for row in data]))\n",
      "average_order_price = round(total_order_sum / num_orders, 2) #let's round our result to 2 decimal places\n",
      "\n",
      "average_order_price"
     ],
     "language": "python",
     "metadata": {},
     "outputs": [
      {
       "metadata": {},
       "output_type": "pyout",
       "prompt_number": 21,
       "text": [
        "18.81"
       ]
      }
     ],
     "prompt_number": 21
    },
    {
     "cell_type": "markdown",
     "metadata": {},
     "source": [
      "###INTERMEDIATE LEVEL\n",
      "PART 4: Create a list (or set) of all unique sodas and soft drinks that they sell.\n",
      "Note: Just look for 'Canned Soda' and 'Canned Soft Drink', and ignore other drinks like 'Izze'."
     ]
    },
    {
     "cell_type": "code",
     "collapsed": false,
     "input": [
      "#First let's look at all the items\n",
      "distinct_items = set([row[2] for row in data])\n",
      "distinct_items "
     ],
     "language": "python",
     "metadata": {},
     "outputs": [
      {
       "metadata": {},
       "output_type": "pyout",
       "prompt_number": 83,
       "text": [
        "{'6 Pack Soft Drink',\n",
        " 'Barbacoa Bowl',\n",
        " 'Barbacoa Burrito',\n",
        " 'Barbacoa Crispy Tacos',\n",
        " 'Barbacoa Salad Bowl',\n",
        " 'Barbacoa Soft Tacos',\n",
        " 'Bottled Water',\n",
        " 'Bowl',\n",
        " 'Burrito',\n",
        " 'Canned Soda',\n",
        " 'Canned Soft Drink',\n",
        " 'Carnitas Bowl',\n",
        " 'Carnitas Burrito',\n",
        " 'Carnitas Crispy Tacos',\n",
        " 'Carnitas Salad',\n",
        " 'Carnitas Salad Bowl',\n",
        " 'Carnitas Soft Tacos',\n",
        " 'Chicken Bowl',\n",
        " 'Chicken Burrito',\n",
        " 'Chicken Crispy Tacos',\n",
        " 'Chicken Salad',\n",
        " 'Chicken Salad Bowl',\n",
        " 'Chicken Soft Tacos',\n",
        " 'Chips',\n",
        " 'Chips and Fresh Tomato Salsa',\n",
        " 'Chips and Guacamole',\n",
        " 'Chips and Mild Fresh Tomato Salsa',\n",
        " 'Chips and Roasted Chili Corn Salsa',\n",
        " 'Chips and Roasted Chili-Corn Salsa',\n",
        " 'Chips and Tomatillo Green Chili Salsa',\n",
        " 'Chips and Tomatillo Red Chili Salsa',\n",
        " 'Chips and Tomatillo-Green Chili Salsa',\n",
        " 'Chips and Tomatillo-Red Chili Salsa',\n",
        " 'Crispy Tacos',\n",
        " 'Izze',\n",
        " 'Nantucket Nectar',\n",
        " 'Salad',\n",
        " 'Side of Chips',\n",
        " 'Steak Bowl',\n",
        " 'Steak Burrito',\n",
        " 'Steak Crispy Tacos',\n",
        " 'Steak Salad',\n",
        " 'Steak Salad Bowl',\n",
        " 'Steak Soft Tacos',\n",
        " 'Veggie Bowl',\n",
        " 'Veggie Burrito',\n",
        " 'Veggie Crispy Tacos',\n",
        " 'Veggie Salad',\n",
        " 'Veggie Salad Bowl',\n",
        " 'Veggie Soft Tacos'}"
       ]
      }
     ],
     "prompt_number": 83
    },
    {
     "cell_type": "markdown",
     "metadata": {},
     "source": [
      "#### 'Canned' is the only filter criteria\n",
      "Our first goal is to reduce the dataset to only soda and soft drink orders. \n",
      "\n",
      "It appears that the only items that use the word 'Canned' are 'Canned Soda' and 'Canned Soft Drink.'\n",
      "\n",
      "This means we only need to use one filter criteria: look for rows with the word 'Canned'"
     ]
    },
    {
     "cell_type": "code",
     "collapsed": false,
     "input": [
      "#Create a list only including soda and soft drink orders\n",
      "soda_orders = [row for row in data if 'Canned' in row[2]]\n",
      "\n",
      "#Let's look at the first five results\n",
      "soda_orders[0:5]"
     ],
     "language": "python",
     "metadata": {},
     "outputs": [
      {
       "metadata": {},
       "output_type": "pyout",
       "prompt_number": 23,
       "text": [
        "[['9', '2', 'Canned Soda', '[Sprite]', '$2.18 '],\n",
        " ['14', '1', 'Canned Soda', '[Dr. Pepper]', '$1.09 '],\n",
        " ['23', '2', 'Canned Soda', '[Mountain Dew]', '$2.18 '],\n",
        " ['24', '1', 'Canned Soda', '[Sprite]', '$1.09 '],\n",
        " ['47', '1', 'Canned Soda', '[Dr. Pepper]', '$1.09 ']]"
       ]
      }
     ],
     "prompt_number": 23
    },
    {
     "cell_type": "markdown",
     "metadata": {},
     "source": [
      "#### list comprehension with an if statement\n",
      "\n",
      "Notice that we used an if statement in the list comprehension to filter to only Soda orders. \n",
      "\n",
      "The if statement is the last piece of information we include in the list comprehension."
     ]
    },
    {
     "cell_type": "code",
     "collapsed": false,
     "input": [
      "from IPython.display import HTML\n",
      "HTML('<iframe src=http://datasciencelab.files.wordpress.com/2014/01/list1.jpg width=700 height=300></iframe>')"
     ],
     "language": "python",
     "metadata": {},
     "outputs": [
      {
       "html": [
        "<iframe src=http://datasciencelab.files.wordpress.com/2014/01/list1.jpg width=700 height=300></iframe>"
       ],
       "metadata": {},
       "output_type": "pyout",
       "prompt_number": 41,
       "text": [
        "<IPython.core.display.HTML at 0x37f6320>"
       ]
      }
     ],
     "prompt_number": 41
    },
    {
     "cell_type": "markdown",
     "metadata": {},
     "source": [
      "####Same Results, Different Code\n",
      "Just out of interest, let's look at three other ways we could have filtered the data. \n",
      "\n",
      "That's one nice thing about Python - there are lots of ways to get the same reults"
     ]
    },
    {
     "cell_type": "code",
     "collapsed": false,
     "input": [
      "soda_orders = [row for row in data if \"Canned Soda\" in row[2] or 'Canned Soft Drink' in row[2]]\n",
      "soda_orders[0:5]"
     ],
     "language": "python",
     "metadata": {},
     "outputs": [
      {
       "metadata": {},
       "output_type": "pyout",
       "prompt_number": 42,
       "text": [
        "[['9', '2', 'Canned Soda', '[Sprite]', '$2.18 '],\n",
        " ['14', '1', 'Canned Soda', '[Dr. Pepper]', '$1.09 '],\n",
        " ['23', '2', 'Canned Soda', '[Mountain Dew]', '$2.18 '],\n",
        " ['24', '1', 'Canned Soda', '[Sprite]', '$1.09 '],\n",
        " ['47', '1', 'Canned Soda', '[Dr. Pepper]', '$1.09 ']]"
       ]
      }
     ],
     "prompt_number": 42
    },
    {
     "cell_type": "code",
     "collapsed": false,
     "input": [
      "soda_orders = [row for row in data if \"Canned Soda\" == row[2] or 'Canned Soft Drink' == row[2]]\n",
      "soda_orders[0:5]"
     ],
     "language": "python",
     "metadata": {},
     "outputs": [
      {
       "metadata": {},
       "output_type": "pyout",
       "prompt_number": 43,
       "text": [
        "[['9', '2', 'Canned Soda', '[Sprite]', '$2.18 '],\n",
        " ['14', '1', 'Canned Soda', '[Dr. Pepper]', '$1.09 '],\n",
        " ['23', '2', 'Canned Soda', '[Mountain Dew]', '$2.18 '],\n",
        " ['24', '1', 'Canned Soda', '[Sprite]', '$1.09 '],\n",
        " ['47', '1', 'Canned Soda', '[Dr. Pepper]', '$1.09 ']]"
       ]
      }
     ],
     "prompt_number": 43
    },
    {
     "cell_type": "code",
     "collapsed": false,
     "input": [
      "soda_orders = [row for row in data if row[2] == \"Canned Soda\" or row[2] == \"Canned Soda\"]\n",
      "soda_orders[0:5]"
     ],
     "language": "python",
     "metadata": {},
     "outputs": [
      {
       "metadata": {},
       "output_type": "pyout",
       "prompt_number": 44,
       "text": [
        "[['9', '2', 'Canned Soda', '[Sprite]', '$2.18 '],\n",
        " ['14', '1', 'Canned Soda', '[Dr. Pepper]', '$1.09 '],\n",
        " ['23', '2', 'Canned Soda', '[Mountain Dew]', '$2.18 '],\n",
        " ['24', '1', 'Canned Soda', '[Sprite]', '$1.09 '],\n",
        " ['47', '1', 'Canned Soda', '[Dr. Pepper]', '$1.09 ']]"
       ]
      }
     ],
     "prompt_number": 44
    },
    {
     "cell_type": "code",
     "collapsed": false,
     "input": [
      "#We only want the choice descriptions (e.g. Sprite, Mountain Dew). This is the fourth item in the list. \n",
      "#Since Python uses 0 based indexing, we get this by using row[3] as the first argument in our list comprehension\n",
      "soda_orders = [row[3] for row in data if 'Canned' in row[2]] #turn row into row[3] to get soda names\n",
      "\n",
      "#Let's look at the first five results\n",
      "soda_orders[0:5]"
     ],
     "language": "python",
     "metadata": {},
     "outputs": [
      {
       "metadata": {},
       "output_type": "pyout",
       "prompt_number": 45,
       "text": [
        "['[Sprite]', '[Dr. Pepper]', '[Mountain Dew]', '[Sprite]', '[Dr. Pepper]']"
       ]
      }
     ],
     "prompt_number": 45
    },
    {
     "cell_type": "markdown",
     "metadata": {},
     "source": [
      "####String versus List\n",
      "\n",
      "The results above may look like 5 lists inside of a larger list. However, if you try to get the first Sprite by using soda_orders[0][0] we get the result '['\n",
      "\n",
      "####Why is this?\n",
      "\n",
      "The raw data for choice description includues brackets (e.g. [Sprite]). We loaded this data in as a string, so while it looks like we have lists inside lists above, the result is actually just one list. This is indicated by the quotes wrapping each item in the list, which mean the list contains strings. \n",
      "\n",
      "So soda_orders[0][0] gets the first character of the first item in the list.\n",
      "\n",
      "soda_orders[0] == '[Sprite]'\n",
      "\n",
      "soda_orders[0][0] == '['"
     ]
    },
    {
     "cell_type": "code",
     "collapsed": false,
     "input": [
      "#Let's strip the brackets at the start and end of each soda name, using [1:-1] to remove the first and last characters\n",
      "soda_orders = [row[3][1:-1] for row in data if 'Canned' in row[2]] #turn row into row[3] to get soda names\n",
      "\n",
      "#Let's look at the first five results\n",
      "soda_orders[0:5]"
     ],
     "language": "python",
     "metadata": {},
     "outputs": [
      {
       "metadata": {},
       "output_type": "pyout",
       "prompt_number": 41,
       "text": [
        "['Sprite', 'Dr. Pepper', 'Mountain Dew', 'Sprite', 'Dr. Pepper']"
       ]
      }
     ],
     "prompt_number": 41
    },
    {
     "cell_type": "code",
     "collapsed": false,
     "input": [
      "#Almost done - we just need to use set to get rid of duplicate values\n",
      "soda_orders = set([row[3][1:-1] for row in data if 'Canned' in row[2]]) #Success in one line of code\n",
      "soda_orders"
     ],
     "language": "python",
     "metadata": {},
     "outputs": [
      {
       "metadata": {},
       "output_type": "pyout",
       "prompt_number": 104,
       "text": [
        "{'Coca Cola',\n",
        " 'Coke',\n",
        " 'Diet Coke',\n",
        " 'Diet Dr. Pepper',\n",
        " 'Dr. Pepper',\n",
        " 'Lemonade',\n",
        " 'Mountain Dew',\n",
        " 'Nestea',\n",
        " 'Sprite'}"
       ]
      }
     ],
     "prompt_number": 104
    },
    {
     "cell_type": "code",
     "collapsed": true,
     "input": [
      "#Just for reference, how would this look if we did not use a list comprehension?\n",
      "\n",
      "sodas = [] #instantiate empty list to collect soda names\n",
      "for row in data:\n",
      "    if 'Canned' in row[2]:\n",
      "        sodas.append(row[3][1:-1]) # strip the brackets\n",
      "\n",
      "# create a set of unique sodas\n",
      "unique_sodas = set(sodas)"
     ],
     "language": "python",
     "metadata": {},
     "outputs": [],
     "prompt_number": null
    },
    {
     "cell_type": "markdown",
     "metadata": {},
     "source": [
      "###ADVANCED LEVEL\n",
      "PART 5: Calculate the average number of toppings per burrito.\n",
      "Note: Let's ignore the 'quantity' column to simplify this task.\n",
      "Hint: Think carefully about the easiest way to count the number of toppings!"
     ]
    },
    {
     "cell_type": "code",
     "collapsed": false,
     "input": [
      "# keep a running total of burritos and toppings\n",
      "burrito_count = 0\n",
      "topping_count = 0\n",
      "\n",
      "# calculate number of toppings by counting the commas and adding 1\n",
      "# note: x += 1 is equivalent to x = x + 1\n",
      "for row in data:\n",
      "    if 'Burrito' in row[2]:\n",
      "        burrito_count += 1\n",
      "        topping_count += (row[3].count(',') + 1)\n",
      "\n",
      "# calculate the average topping count and round to 2 digits\n",
      "round(topping_count / float(burrito_count), 2)      # 5.40"
     ],
     "language": "python",
     "metadata": {},
     "outputs": [
      {
       "metadata": {},
       "output_type": "pyout",
       "prompt_number": 46,
       "text": [
        "5.4"
       ]
      }
     ],
     "prompt_number": 46
    },
    {
     "cell_type": "code",
     "collapsed": false,
     "input": [
      "#Answer in a list comprehension\n",
      "burrito_count = sum(1 for row in data if 'Burrito' in row[2])\n",
      "topping_count = sum([row[3].count(',') + 1 for row in data if 'Burrito' in row[2]])\n",
      "round(topping_count / float(burrito_count), 2)      # 5.40"
     ],
     "language": "python",
     "metadata": {},
     "outputs": [
      {
       "metadata": {},
       "output_type": "pyout",
       "prompt_number": 47,
       "text": [
        "5.4"
       ]
      }
     ],
     "prompt_number": 47
    },
    {
     "cell_type": "markdown",
     "metadata": {},
     "source": [
      "###ADVANCED LEVEL\n",
      "PART 6: Create a dictionary in which the keys represent chip orders and\n",
      "  the values represent the total number of orders.\n",
      "Expected output: {'Chips and Roasted Chili-Corn Salsa': 18, ... }\n",
      "\n",
      "Note: Please take the 'quantity' column into account!\n",
      "Optional: Learn how to use 'defaultdict' to simplify your code."
     ]
    },
    {
     "cell_type": "code",
     "collapsed": true,
     "input": [
      "# start with an empty dictionary\n",
      "chips = {}\n",
      "\n",
      "# if chip order is not in dictionary, then add a new key/value pair\n",
      "# if chip order is already in dictionary, then update the value for that key\n",
      "for row in data:\n",
      "    if 'Chips' in row[2]:\n",
      "        if row[2] not in chips:\n",
      "            chips[row[2]] = int(row[1])     # this is a new key, so create key/value pair\n",
      "        else:\n",
      "            chips[row[2]] += int(row[1])    # this is an existing key, so add to the value\n",
      "          \n",
      "chips"
     ],
     "language": "python",
     "metadata": {},
     "outputs": [
      {
       "metadata": {},
       "output_type": "pyout",
       "prompt_number": 51,
       "text": [
        "{'Chips': 230,\n",
        " 'Chips and Fresh Tomato Salsa': 130,\n",
        " 'Chips and Guacamole': 506,\n",
        " 'Chips and Mild Fresh Tomato Salsa': 1,\n",
        " 'Chips and Roasted Chili Corn Salsa': 23,\n",
        " 'Chips and Roasted Chili-Corn Salsa': 18,\n",
        " 'Chips and Tomatillo Green Chili Salsa': 45,\n",
        " 'Chips and Tomatillo Red Chili Salsa': 50,\n",
        " 'Chips and Tomatillo-Green Chili Salsa': 33,\n",
        " 'Chips and Tomatillo-Red Chili Salsa': 25,\n",
        " 'Side of Chips': 110}"
       ]
      }
     ],
     "prompt_number": 51
    },
    {
     "cell_type": "code",
     "collapsed": false,
     "input": [
      "# defaultdict saves you the trouble of checking whether a key already exists\n",
      "from collections import defaultdict\n",
      "dchips = defaultdict(int)\n",
      "for row in data:\n",
      "    if 'Chips' in row[2]:\n",
      "        dchips[row[2]] += int(row[1])\n",
      "        \n",
      "dchips"
     ],
     "language": "python",
     "metadata": {},
     "outputs": [
      {
       "metadata": {},
       "output_type": "pyout",
       "prompt_number": 52,
       "text": [
        "defaultdict(<type 'int'>, {'Chips and Roasted Chili-Corn Salsa': 18, 'Chips and Tomatillo-Red Chili Salsa': 25, 'Chips and Mild Fresh Tomato Salsa': 1, 'Chips and Guacamole': 506, 'Chips and Fresh Tomato Salsa': 130, 'Chips and Tomatillo Red Chili Salsa': 50, 'Chips and Tomatillo-Green Chili Salsa': 33, 'Side of Chips': 110, 'Chips and Roasted Chili Corn Salsa': 23, 'Chips': 230, 'Chips and Tomatillo Green Chili Salsa': 45})"
       ]
      }
     ],
     "prompt_number": 52
    }
   ],
   "metadata": {}
  }
 ]
}