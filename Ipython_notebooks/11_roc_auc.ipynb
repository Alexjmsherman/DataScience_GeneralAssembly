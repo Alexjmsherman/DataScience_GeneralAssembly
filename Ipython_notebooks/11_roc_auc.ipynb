{
 "metadata": {
  "name": "",
  "signature": "sha256:9d8112ea956f0dbea73f58cf4190b7deba9eb97b4fbfa47f15550e5d290efafe"
 },
 "nbformat": 3,
 "nbformat_minor": 0,
 "worksheets": [
  {
   "cells": [
    {
     "cell_type": "markdown",
     "metadata": {},
     "source": [
      "# ROC Curves and AUC"
     ]
    },
    {
     "cell_type": "code",
     "collapsed": false,
     "input": [
      "import pandas as pd\n",
      "from sklearn.cross_validation import train_test_split\n",
      "from sklearn.linear_model import LogisticRegression\n",
      "from sklearn import metrics\n",
      "from sklearn.dummy import DummyClassifier\n",
      "import matplotlib.pyplot as plt\n",
      "%matplotlib inline"
     ],
     "language": "python",
     "metadata": {},
     "outputs": [],
     "prompt_number": 1
    },
    {
     "cell_type": "code",
     "collapsed": false,
     "input": [
      "# read in the data\n",
      "data = pd.read_csv('https://raw.githubusercontent.com/justmarkham/DAT5/master/data/default.csv')\n",
      "data.head()"
     ],
     "language": "python",
     "metadata": {},
     "outputs": [
      {
       "html": [
        "<div style=\"max-height:1000px;max-width:1500px;overflow:auto;\">\n",
        "<table border=\"1\" class=\"dataframe\">\n",
        "  <thead>\n",
        "    <tr style=\"text-align: right;\">\n",
        "      <th></th>\n",
        "      <th>default</th>\n",
        "      <th>student</th>\n",
        "      <th>balance</th>\n",
        "      <th>income</th>\n",
        "    </tr>\n",
        "  </thead>\n",
        "  <tbody>\n",
        "    <tr>\n",
        "      <th>0</th>\n",
        "      <td>0</td>\n",
        "      <td>No</td>\n",
        "      <td>729.526495</td>\n",
        "      <td>44361.62507</td>\n",
        "    </tr>\n",
        "    <tr>\n",
        "      <th>1</th>\n",
        "      <td>0</td>\n",
        "      <td>Yes</td>\n",
        "      <td>817.180407</td>\n",
        "      <td>12106.13470</td>\n",
        "    </tr>\n",
        "    <tr>\n",
        "      <th>2</th>\n",
        "      <td>0</td>\n",
        "      <td>No</td>\n",
        "      <td>1073.549164</td>\n",
        "      <td>31767.13895</td>\n",
        "    </tr>\n",
        "    <tr>\n",
        "      <th>3</th>\n",
        "      <td>0</td>\n",
        "      <td>No</td>\n",
        "      <td>529.250605</td>\n",
        "      <td>35704.49394</td>\n",
        "    </tr>\n",
        "    <tr>\n",
        "      <th>4</th>\n",
        "      <td>0</td>\n",
        "      <td>No</td>\n",
        "      <td>785.655883</td>\n",
        "      <td>38463.49588</td>\n",
        "    </tr>\n",
        "  </tbody>\n",
        "</table>\n",
        "</div>"
       ],
       "metadata": {},
       "output_type": "pyout",
       "prompt_number": 2,
       "text": [
        "   default student      balance       income\n",
        "0        0      No   729.526495  44361.62507\n",
        "1        0     Yes   817.180407  12106.13470\n",
        "2        0      No  1073.549164  31767.13895\n",
        "3        0      No   529.250605  35704.49394\n",
        "4        0      No   785.655883  38463.49588"
       ]
      }
     ],
     "prompt_number": 2
    },
    {
     "cell_type": "markdown",
     "metadata": {},
     "source": [
      "## Model with One Feature"
     ]
    },
    {
     "cell_type": "code",
     "collapsed": false,
     "input": [
      "# create X and y\n",
      "X = data[['balance']]\n",
      "y = data.default"
     ],
     "language": "python",
     "metadata": {},
     "outputs": [],
     "prompt_number": 3
    },
    {
     "cell_type": "code",
     "collapsed": false,
     "input": [
      "# split into train and test\n",
      "X_train, X_test, y_train, y_test = train_test_split(X, y, random_state=1)"
     ],
     "language": "python",
     "metadata": {},
     "outputs": [],
     "prompt_number": 4
    },
    {
     "cell_type": "code",
     "collapsed": false,
     "input": [
      "# create logistic regression model\n",
      "logreg = LogisticRegression()\n",
      "logreg.fit(X_train, y_train)"
     ],
     "language": "python",
     "metadata": {},
     "outputs": [
      {
       "metadata": {},
       "output_type": "pyout",
       "prompt_number": 5,
       "text": [
        "LogisticRegression(C=1.0, class_weight=None, dual=False, fit_intercept=True,\n",
        "          intercept_scaling=1, penalty='l2', random_state=None, tol=0.0001)"
       ]
      }
     ],
     "prompt_number": 5
    },
    {
     "cell_type": "code",
     "collapsed": false,
     "input": [
      "# make predictions and calculate accuracy\n",
      "y_pred = logreg.predict(X_test)\n",
      "print y_pred\n",
      "print metrics.accuracy_score(y_test, y_pred)"
     ],
     "language": "python",
     "metadata": {},
     "outputs": [
      {
       "output_type": "stream",
       "stream": "stdout",
       "text": [
        "[0 0 0 ..., 0 0 0]\n",
        "0.9748\n"
       ]
      }
     ],
     "prompt_number": 6
    },
    {
     "cell_type": "code",
     "collapsed": false,
     "input": [
      "# calculate null accuracy rate\n",
      "print y_test.mean()\n",
      "print 1 - y_test.mean()"
     ],
     "language": "python",
     "metadata": {},
     "outputs": []
    },
    {
     "cell_type": "code",
     "collapsed": false,
     "input": [
      "# use a \"dummy classifier\" to calculate null accuracy rate\n",
      "dumb = DummyClassifier(strategy='most_frequent')\n",
      "dumb.fit(X_train, y_train)\n",
      "y_pred = dumb.predict(X_test)\n",
      "print metrics.accuracy_score(y_test, y_pred)"
     ],
     "language": "python",
     "metadata": {},
     "outputs": []
    },
    {
     "cell_type": "code",
     "collapsed": false,
     "input": [
      "# predict probability of default\n",
      "y_prob = logreg.predict_proba(X_test)[:, 1]"
     ],
     "language": "python",
     "metadata": {},
     "outputs": []
    },
    {
     "cell_type": "code",
     "collapsed": false,
     "input": [
      "# plot ROC curve\n",
      "fpr, tpr, thresholds = metrics.roc_curve(y_test, y_prob)\n",
      "plt.plot(fpr, tpr)\n",
      "plt.xlim([0.0, 1.0])\n",
      "plt.ylim([0.0, 1.0])\n",
      "plt.xlabel('False Positive Rate (1 - Specificity)')\n",
      "plt.ylabel('True Positive Rate (Sensitivity)')"
     ],
     "language": "python",
     "metadata": {},
     "outputs": []
    },
    {
     "cell_type": "code",
     "collapsed": false,
     "input": [
      "# calculate AUC\n",
      "print metrics.roc_auc_score(y_test, y_prob)"
     ],
     "language": "python",
     "metadata": {},
     "outputs": []
    },
    {
     "cell_type": "code",
     "collapsed": false,
     "input": [
      "# histogram of predicted probabilities grouped by actual response value\n",
      "df = pd.DataFrame(data = {'probability':y_prob, 'actual':y_test})\n",
      "df.probability.hist(by=df.actual, sharex=True, sharey=True)"
     ],
     "language": "python",
     "metadata": {},
     "outputs": []
    },
    {
     "cell_type": "markdown",
     "metadata": {},
     "source": [
      "## Model with Two Features"
     ]
    },
    {
     "cell_type": "code",
     "collapsed": false,
     "input": [
      "# compare to a model with an additional feature\n",
      "X = data[['balance', 'income']]\n",
      "y = data.default\n",
      "\n",
      "# split into train and test\n",
      "X_train, X_test, y_train, y_test = train_test_split(X, y, random_state=1)\n",
      "logreg.fit(X_train, y_train)\n",
      "\n",
      "# calculate accuracy\n",
      "y_pred = logreg.predict(X_test)\n",
      "print metrics.accuracy_score(y_test, y_pred)"
     ],
     "language": "python",
     "metadata": {},
     "outputs": [
      {
       "output_type": "stream",
       "stream": "stdout",
       "text": [
        "0.9684\n"
       ]
      }
     ],
     "prompt_number": 7
    },
    {
     "cell_type": "code",
     "collapsed": false,
     "input": [
      "# predict probability of default\n",
      "y_prob = logreg.predict_proba(X_test)[:, 1]\n",
      "\n",
      "# plot ROC curve\n",
      "fpr, tpr, thresholds = metrics.roc_curve(y_test, y_prob)\n",
      "plt.plot(fpr, tpr)\n",
      "plt.xlim([0.0, 1.0])\n",
      "plt.ylim([0.0, 1.0])\n",
      "plt.xlabel('False Positive Rate (1 - Specificity)')\n",
      "plt.ylabel('True Positive Rate (Sensitivity)')"
     ],
     "language": "python",
     "metadata": {},
     "outputs": [
      {
       "metadata": {},
       "output_type": "pyout",
       "prompt_number": 8,
       "text": [
        "<matplotlib.text.Text at 0x169aaf98>"
       ]
      },
      {
       "metadata": {},
       "output_type": "display_data",
       "png": "[encoded data removed]",
       "text": [
        "<matplotlib.figure.Figure at 0x38ceba8>"
       ]
      }
     ],
     "prompt_number": 8
    },
    {
     "cell_type": "code",
     "collapsed": false,
     "input": [
      "# calculate AUC\n",
      "print metrics.roc_auc_score(y_test, y_prob)"
     ],
     "language": "python",
     "metadata": {},
     "outputs": [
      {
       "output_type": "stream",
       "stream": "stdout",
       "text": [
        "0.641794634501\n"
       ]
      }
     ],
     "prompt_number": 9
    },
    {
     "cell_type": "code",
     "collapsed": false,
     "input": [
      "# histogram of predicted probabilities grouped by actual response value\n",
      "df = pd.DataFrame(data = {'probability':y_prob, 'actual':y_test})\n",
      "df.probability.hist(by=df.actual, sharex=True)"
     ],
     "language": "python",
     "metadata": {},
     "outputs": [
      {
       "metadata": {},
       "output_type": "pyout",
       "prompt_number": 10,
       "text": [
        "array([<matplotlib.axes._subplots.AxesSubplot object at 0x0000000016A563C8>,\n",
        "       <matplotlib.axes._subplots.AxesSubplot object at 0x0000000016DAF160>], dtype=object)"
       ]
      },
      {
       "metadata": {},
       "output_type": "display_data",
       "png": "[encoded data removed]",
       "text": [
        "<matplotlib.figure.Figure at 0x3965208>"
       ]
      }
     ],
     "prompt_number": 10
    }
   ],
   "metadata": {}
  }
 ]
}