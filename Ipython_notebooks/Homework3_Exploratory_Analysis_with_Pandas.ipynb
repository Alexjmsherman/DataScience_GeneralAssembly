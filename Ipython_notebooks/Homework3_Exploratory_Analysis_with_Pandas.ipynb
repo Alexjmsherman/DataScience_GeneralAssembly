{
 "metadata": {
  "name": "",
  "signature": "sha256:52fb757a0260cc21b7d41a80f19924ad508532db8c54cdb73b3ef8db440d892e"
 },
 "nbformat": 3,
 "nbformat_minor": 0,
 "worksheets": [
  {
   "cells": [
    {
     "cell_type": "markdown",
     "metadata": {},
     "source": [
      "## Homework 3 - Exploratory Data Analysis with Pandas\n",
      "\n",
      "Use the automotive mpg data (https://raw.githubusercontent.com/justmarkham/DAT5/master/data/auto_mpg.csv) \n",
      "to complete the following parts.  Please turn in your code for each part.  Before each code chunk, give a brief description (one line) of what the code is doing (e.g. \"Loads the data\" or \"Creates scatter plot of mpg and weight\").  If \n",
      "the code output produces a plot or answers a question, give a brief interpretation of the output (e.g. \"This plot shows X,Y,Z\" or \"The mean for group A is higher than the mean for group B which means X,Y,Z\")."
     ]
    },
    {
     "cell_type": "markdown",
     "metadata": {},
     "source": [
      "### Part 1\n",
      "Load the data (https://raw.githubusercontent.com/justmarkham/DAT5/master/data/auto_mpg.txt) into a DataFrame.  Try looking at the \"head\" of the file in the command line to see how the file is delimited and how to load it."
     ]
    },
    {
     "cell_type": "code",
     "collapsed": false,
     "input": [
      "import pandas as pd\n",
      "import matplotlib.pyplot as plt\n",
      "%matplotlib inline\n",
      "import numpy as np\n",
      "\n",
      "pd.set_option('display.max_rows', 500)\n",
      "\n",
      "#import data in DataFrame, separated by the pipe symbol\n",
      "data = pd.read_table(r'C:\\Users\\alsherman\\Desktop\\DAT5\\data\\auto_mpg.txt', sep='|')\n",
      "data.head()"
     ],
     "language": "python",
     "metadata": {},
     "outputs": [
      {
       "html": [
        "<div style=\"max-height:1000px;max-width:1500px;overflow:auto;\">\n",
        "<table border=\"1\" class=\"dataframe\">\n",
        "  <thead>\n",
        "    <tr style=\"text-align: right;\">\n",
        "      <th></th>\n",
        "      <th>mpg</th>\n",
        "      <th>cylinders</th>\n",
        "      <th>displacement</th>\n",
        "      <th>horsepower</th>\n",
        "      <th>weight</th>\n",
        "      <th>acceleration</th>\n",
        "      <th>model_year</th>\n",
        "      <th>origin</th>\n",
        "      <th>car_name</th>\n",
        "    </tr>\n",
        "  </thead>\n",
        "  <tbody>\n",
        "    <tr>\n",
        "      <th>0</th>\n",
        "      <td> 18</td>\n",
        "      <td> 8</td>\n",
        "      <td> 307</td>\n",
        "      <td> 130</td>\n",
        "      <td> 3504</td>\n",
        "      <td> 12.0</td>\n",
        "      <td> 70</td>\n",
        "      <td> 1</td>\n",
        "      <td> chevrolet chevelle malibu</td>\n",
        "    </tr>\n",
        "    <tr>\n",
        "      <th>1</th>\n",
        "      <td> 15</td>\n",
        "      <td> 8</td>\n",
        "      <td> 350</td>\n",
        "      <td> 165</td>\n",
        "      <td> 3693</td>\n",
        "      <td> 11.5</td>\n",
        "      <td> 70</td>\n",
        "      <td> 1</td>\n",
        "      <td>         buick skylark 320</td>\n",
        "    </tr>\n",
        "    <tr>\n",
        "      <th>2</th>\n",
        "      <td> 18</td>\n",
        "      <td> 8</td>\n",
        "      <td> 318</td>\n",
        "      <td> 150</td>\n",
        "      <td> 3436</td>\n",
        "      <td> 11.0</td>\n",
        "      <td> 70</td>\n",
        "      <td> 1</td>\n",
        "      <td>        plymouth satellite</td>\n",
        "    </tr>\n",
        "    <tr>\n",
        "      <th>3</th>\n",
        "      <td> 16</td>\n",
        "      <td> 8</td>\n",
        "      <td> 304</td>\n",
        "      <td> 150</td>\n",
        "      <td> 3433</td>\n",
        "      <td> 12.0</td>\n",
        "      <td> 70</td>\n",
        "      <td> 1</td>\n",
        "      <td>             amc rebel sst</td>\n",
        "    </tr>\n",
        "    <tr>\n",
        "      <th>4</th>\n",
        "      <td> 17</td>\n",
        "      <td> 8</td>\n",
        "      <td> 302</td>\n",
        "      <td> 140</td>\n",
        "      <td> 3449</td>\n",
        "      <td> 10.5</td>\n",
        "      <td> 70</td>\n",
        "      <td> 1</td>\n",
        "      <td>               ford torino</td>\n",
        "    </tr>\n",
        "  </tbody>\n",
        "</table>\n",
        "</div>"
       ],
       "metadata": {},
       "output_type": "pyout",
       "prompt_number": 65,
       "text": [
        "   mpg  cylinders  displacement  horsepower  weight  acceleration  model_year  \\\n",
        "0   18          8           307         130    3504          12.0          70   \n",
        "1   15          8           350         165    3693          11.5          70   \n",
        "2   18          8           318         150    3436          11.0          70   \n",
        "3   16          8           304         150    3433          12.0          70   \n",
        "4   17          8           302         140    3449          10.5          70   \n",
        "\n",
        "   origin                   car_name  \n",
        "0       1  chevrolet chevelle malibu  \n",
        "1       1          buick skylark 320  \n",
        "2       1         plymouth satellite  \n",
        "3       1              amc rebel sst  \n",
        "4       1                ford torino  "
       ]
      }
     ],
     "prompt_number": 65
    },
    {
     "cell_type": "markdown",
     "metadata": {},
     "source": [
      "###Part 2\n",
      "Get familiar with the data.  Answer the following questions:\n",
      "- What is the shape of the data?  How many rows and columns are there?\n",
      "- What variables are available?\n",
      "- What are the ranges for the values in each numeric column?\n",
      "- What is the average value for each column?  Does that differ significantly\n",
      "  from the median?"
     ]
    },
    {
     "cell_type": "code",
     "collapsed": false,
     "input": [
      "data.shape #rows, columns"
     ],
     "language": "python",
     "metadata": {},
     "outputs": [
      {
       "metadata": {},
       "output_type": "pyout",
       "prompt_number": 20,
       "text": [
        "(392, 9)"
       ]
      }
     ],
     "prompt_number": 20
    },
    {
     "cell_type": "code",
     "collapsed": false,
     "input": [
      "for var in data.columns: #available variables\n",
      "    print var"
     ],
     "language": "python",
     "metadata": {},
     "outputs": [
      {
       "output_type": "stream",
       "stream": "stdout",
       "text": [
        "mpg\n",
        "cylinders\n",
        "displacement\n",
        "horsepower\n",
        "weight\n",
        "acceleration\n",
        "model_year\n",
        "origin\n",
        "car_name\n"
       ]
      }
     ],
     "prompt_number": 32
    },
    {
     "cell_type": "code",
     "collapsed": false,
     "input": [
      "#calculate the range for each variable\n",
      "Data_Range = data.describe().T #get the statistical measures and transpose the variables into a single column\n",
      "Data_Range['range'] = Data_Range['max'] - Data_Range['min'] #create new column with range calculation\n",
      "Data_Range = Data_Range[['max','min','range']] #subset dataframe to pertinent columns - max, min, and range\n",
      "Data_Range"
     ],
     "language": "python",
     "metadata": {},
     "outputs": [
      {
       "html": [
        "<div style=\"max-height:1000px;max-width:1500px;overflow:auto;\">\n",
        "<table border=\"1\" class=\"dataframe\">\n",
        "  <thead>\n",
        "    <tr style=\"text-align: right;\">\n",
        "      <th></th>\n",
        "      <th>max</th>\n",
        "      <th>min</th>\n",
        "      <th>range</th>\n",
        "    </tr>\n",
        "  </thead>\n",
        "  <tbody>\n",
        "    <tr>\n",
        "      <th>mpg</th>\n",
        "      <td>   46.6</td>\n",
        "      <td>    9</td>\n",
        "      <td>   37.6</td>\n",
        "    </tr>\n",
        "    <tr>\n",
        "      <th>cylinders</th>\n",
        "      <td>    8.0</td>\n",
        "      <td>    3</td>\n",
        "      <td>    5.0</td>\n",
        "    </tr>\n",
        "    <tr>\n",
        "      <th>displacement</th>\n",
        "      <td>  455.0</td>\n",
        "      <td>   68</td>\n",
        "      <td>  387.0</td>\n",
        "    </tr>\n",
        "    <tr>\n",
        "      <th>horsepower</th>\n",
        "      <td>  230.0</td>\n",
        "      <td>   46</td>\n",
        "      <td>  184.0</td>\n",
        "    </tr>\n",
        "    <tr>\n",
        "      <th>weight</th>\n",
        "      <td> 5140.0</td>\n",
        "      <td> 1613</td>\n",
        "      <td> 3527.0</td>\n",
        "    </tr>\n",
        "    <tr>\n",
        "      <th>acceleration</th>\n",
        "      <td>   24.8</td>\n",
        "      <td>    8</td>\n",
        "      <td>   16.8</td>\n",
        "    </tr>\n",
        "    <tr>\n",
        "      <th>model_year</th>\n",
        "      <td>   82.0</td>\n",
        "      <td>   70</td>\n",
        "      <td>   12.0</td>\n",
        "    </tr>\n",
        "    <tr>\n",
        "      <th>origin</th>\n",
        "      <td>    3.0</td>\n",
        "      <td>    1</td>\n",
        "      <td>    2.0</td>\n",
        "    </tr>\n",
        "  </tbody>\n",
        "</table>\n",
        "</div>"
       ],
       "metadata": {},
       "output_type": "pyout",
       "prompt_number": 36,
       "text": [
        "                 max   min   range\n",
        "mpg             46.6     9    37.6\n",
        "cylinders        8.0     3     5.0\n",
        "displacement   455.0    68   387.0\n",
        "horsepower     230.0    46   184.0\n",
        "weight        5140.0  1613  3527.0\n",
        "acceleration    24.8     8    16.8\n",
        "model_year      82.0    70    12.0\n",
        "origin           3.0     1     2.0"
       ]
      }
     ],
     "prompt_number": 36
    },
    {
     "cell_type": "code",
     "collapsed": false,
     "input": [
      "#Determine the average, median, and difference for each (numeric) variable\n",
      "Average_Temp = []\n",
      "for i in data.columns:\n",
      "    if data[i].dtype != object: #exclude non-numeric variables\n",
      "        Average_Temp.append([i, data[i].mean(), data[i].median(),data[i].mean() - data[i].median()])\n",
      "Average_Data = pd.DataFrame(Average_Temp,  columns=['variable','average','median','diff'])\n",
      "Average_Data"
     ],
     "language": "python",
     "metadata": {},
     "outputs": [
      {
       "html": [
        "<div style=\"max-height:1000px;max-width:1500px;overflow:auto;\">\n",
        "<table border=\"1\" class=\"dataframe\">\n",
        "  <thead>\n",
        "    <tr style=\"text-align: right;\">\n",
        "      <th></th>\n",
        "      <th>variable</th>\n",
        "      <th>average</th>\n",
        "      <th>median</th>\n",
        "      <th>diff</th>\n",
        "    </tr>\n",
        "  </thead>\n",
        "  <tbody>\n",
        "    <tr>\n",
        "      <th>0</th>\n",
        "      <td>          mpg</td>\n",
        "      <td>   23.445918</td>\n",
        "      <td>   22.75</td>\n",
        "      <td>   0.695918</td>\n",
        "    </tr>\n",
        "    <tr>\n",
        "      <th>1</th>\n",
        "      <td>    cylinders</td>\n",
        "      <td>    5.471939</td>\n",
        "      <td>    4.00</td>\n",
        "      <td>   1.471939</td>\n",
        "    </tr>\n",
        "    <tr>\n",
        "      <th>2</th>\n",
        "      <td> displacement</td>\n",
        "      <td>  194.411990</td>\n",
        "      <td>  151.00</td>\n",
        "      <td>  43.411990</td>\n",
        "    </tr>\n",
        "    <tr>\n",
        "      <th>3</th>\n",
        "      <td>   horsepower</td>\n",
        "      <td>  104.469388</td>\n",
        "      <td>   93.50</td>\n",
        "      <td>  10.969388</td>\n",
        "    </tr>\n",
        "    <tr>\n",
        "      <th>4</th>\n",
        "      <td>       weight</td>\n",
        "      <td> 2977.584184</td>\n",
        "      <td> 2803.50</td>\n",
        "      <td> 174.084184</td>\n",
        "    </tr>\n",
        "    <tr>\n",
        "      <th>5</th>\n",
        "      <td> acceleration</td>\n",
        "      <td>   15.541327</td>\n",
        "      <td>   15.50</td>\n",
        "      <td>   0.041327</td>\n",
        "    </tr>\n",
        "    <tr>\n",
        "      <th>6</th>\n",
        "      <td>   model_year</td>\n",
        "      <td>   75.979592</td>\n",
        "      <td>   76.00</td>\n",
        "      <td>  -0.020408</td>\n",
        "    </tr>\n",
        "    <tr>\n",
        "      <th>7</th>\n",
        "      <td>       origin</td>\n",
        "      <td>    1.576531</td>\n",
        "      <td>    1.00</td>\n",
        "      <td>   0.576531</td>\n",
        "    </tr>\n",
        "  </tbody>\n",
        "</table>\n",
        "</div>"
       ],
       "metadata": {},
       "output_type": "pyout",
       "prompt_number": 27,
       "text": [
        "       variable      average   median        diff\n",
        "0           mpg    23.445918    22.75    0.695918\n",
        "1     cylinders     5.471939     4.00    1.471939\n",
        "2  displacement   194.411990   151.00   43.411990\n",
        "3    horsepower   104.469388    93.50   10.969388\n",
        "4        weight  2977.584184  2803.50  174.084184\n",
        "5  acceleration    15.541327    15.50    0.041327\n",
        "6    model_year    75.979592    76.00   -0.020408\n",
        "7        origin     1.576531     1.00    0.576531"
       ]
      }
     ],
     "prompt_number": 27
    },
    {
     "cell_type": "markdown",
     "metadata": {},
     "source": [
      "###Part 3\n",
      "Use the data to answer the following questions:\n",
      "- Which 5 cars get the best gas mileage?  \n",
      "- Which 5 cars with more than 4 cylinders get the best gas mileage?\n",
      "- Which 5 cars get the worst gas mileage?  \n",
      "- Which 5 cars with 4 or fewer cylinders get the worst gas mileage?"
     ]
    },
    {
     "cell_type": "code",
     "collapsed": false,
     "input": [
      "# Get 5 cars with best mpg by reording data by mpg  \n",
      "data.sort_index(by='mpg', ascending=False)[0:5][['car_name','mpg']]"
     ],
     "language": "python",
     "metadata": {},
     "outputs": [
      {
       "html": [
        "<div style=\"max-height:1000px;max-width:1500px;overflow:auto;\">\n",
        "<table border=\"1\" class=\"dataframe\">\n",
        "  <thead>\n",
        "    <tr style=\"text-align: right;\">\n",
        "      <th></th>\n",
        "      <th>car_name</th>\n",
        "      <th>mpg</th>\n",
        "    </tr>\n",
        "  </thead>\n",
        "  <tbody>\n",
        "    <tr>\n",
        "      <th>320</th>\n",
        "      <td>            mazda glc</td>\n",
        "      <td> 46.6</td>\n",
        "    </tr>\n",
        "    <tr>\n",
        "      <th>327</th>\n",
        "      <td>  honda civic 1500 gl</td>\n",
        "      <td> 44.6</td>\n",
        "    </tr>\n",
        "    <tr>\n",
        "      <th>323</th>\n",
        "      <td> vw rabbit c (diesel)</td>\n",
        "      <td> 44.3</td>\n",
        "    </tr>\n",
        "    <tr>\n",
        "      <th>388</th>\n",
        "      <td>            vw pickup</td>\n",
        "      <td> 44.0</td>\n",
        "    </tr>\n",
        "    <tr>\n",
        "      <th>324</th>\n",
        "      <td>   vw dasher (diesel)</td>\n",
        "      <td> 43.4</td>\n",
        "    </tr>\n",
        "  </tbody>\n",
        "</table>\n",
        "</div>"
       ],
       "metadata": {},
       "output_type": "pyout",
       "prompt_number": 38,
       "text": [
        "                 car_name   mpg\n",
        "320             mazda glc  46.6\n",
        "327   honda civic 1500 gl  44.6\n",
        "323  vw rabbit c (diesel)  44.3\n",
        "388             vw pickup  44.0\n",
        "324    vw dasher (diesel)  43.4"
       ]
      }
     ],
     "prompt_number": 38
    },
    {
     "cell_type": "code",
     "collapsed": false,
     "input": [
      "#Get max mpg for 5 cars with > 4 cylinders \n",
      "data[data.cylinders > 4].sort_index(by='mpg', ascending=False)[0:5][['car_name','mpg']]"
     ],
     "language": "python",
     "metadata": {},
     "outputs": [
      {
       "html": [
        "<div style=\"max-height:1000px;max-width:1500px;overflow:auto;\">\n",
        "<table border=\"1\" class=\"dataframe\">\n",
        "  <thead>\n",
        "    <tr style=\"text-align: right;\">\n",
        "      <th></th>\n",
        "      <th>car_name</th>\n",
        "      <th>mpg</th>\n",
        "    </tr>\n",
        "  </thead>\n",
        "  <tbody>\n",
        "    <tr>\n",
        "      <th>381</th>\n",
        "      <td> oldsmobile cutlass ciera (diesel)</td>\n",
        "      <td> 38.0</td>\n",
        "    </tr>\n",
        "    <tr>\n",
        "      <th>325</th>\n",
        "      <td>               audi 5000s (diesel)</td>\n",
        "      <td> 36.4</td>\n",
        "    </tr>\n",
        "    <tr>\n",
        "      <th>330</th>\n",
        "      <td>                     datsun 280-zx</td>\n",
        "      <td> 32.7</td>\n",
        "    </tr>\n",
        "    <tr>\n",
        "      <th>355</th>\n",
        "      <td>                      volvo diesel</td>\n",
        "      <td> 30.7</td>\n",
        "    </tr>\n",
        "    <tr>\n",
        "      <th>304</th>\n",
        "      <td>                chevrolet citation</td>\n",
        "      <td> 28.8</td>\n",
        "    </tr>\n",
        "  </tbody>\n",
        "</table>\n",
        "</div>"
       ],
       "metadata": {},
       "output_type": "pyout",
       "prompt_number": 39,
       "text": [
        "                              car_name   mpg\n",
        "381  oldsmobile cutlass ciera (diesel)  38.0\n",
        "325                audi 5000s (diesel)  36.4\n",
        "330                      datsun 280-zx  32.7\n",
        "355                       volvo diesel  30.7\n",
        "304                 chevrolet citation  28.8"
       ]
      }
     ],
     "prompt_number": 39
    },
    {
     "cell_type": "code",
     "collapsed": false,
     "input": [
      "# Get 5 cars with worst mpg by reording data by mpg asending == True  \n",
      "data.sort_index(by='mpg', ascending=True)[0:5][['car_name','mpg']]"
     ],
     "language": "python",
     "metadata": {},
     "outputs": [
      {
       "html": [
        "<div style=\"max-height:1000px;max-width:1500px;overflow:auto;\">\n",
        "<table border=\"1\" class=\"dataframe\">\n",
        "  <thead>\n",
        "    <tr style=\"text-align: right;\">\n",
        "      <th></th>\n",
        "      <th>car_name</th>\n",
        "      <th>mpg</th>\n",
        "    </tr>\n",
        "  </thead>\n",
        "  <tbody>\n",
        "    <tr>\n",
        "      <th>28 </th>\n",
        "      <td>         hi 1200d</td>\n",
        "      <td>  9</td>\n",
        "    </tr>\n",
        "    <tr>\n",
        "      <th>26 </th>\n",
        "      <td>        chevy c20</td>\n",
        "      <td> 10</td>\n",
        "    </tr>\n",
        "    <tr>\n",
        "      <th>25 </th>\n",
        "      <td>        ford f250</td>\n",
        "      <td> 10</td>\n",
        "    </tr>\n",
        "    <tr>\n",
        "      <th>27 </th>\n",
        "      <td>       dodge d200</td>\n",
        "      <td> 11</td>\n",
        "    </tr>\n",
        "    <tr>\n",
        "      <th>123</th>\n",
        "      <td> oldsmobile omega</td>\n",
        "      <td> 11</td>\n",
        "    </tr>\n",
        "  </tbody>\n",
        "</table>\n",
        "</div>"
       ],
       "metadata": {},
       "output_type": "pyout",
       "prompt_number": 40,
       "text": [
        "             car_name  mpg\n",
        "28           hi 1200d    9\n",
        "26          chevy c20   10\n",
        "25          ford f250   10\n",
        "27         dodge d200   11\n",
        "123  oldsmobile omega   11"
       ]
      }
     ],
     "prompt_number": 40
    },
    {
     "cell_type": "code",
     "collapsed": false,
     "input": [
      "#Get min mpg for 5 cars with <= 4 cylinders \n",
      "data[data.cylinders <= 4].sort_index(by='mpg', ascending=True)[0:5][['car_name','mpg']]"
     ],
     "language": "python",
     "metadata": {},
     "outputs": [
      {
       "html": [
        "<div style=\"max-height:1000px;max-width:1500px;overflow:auto;\">\n",
        "<table border=\"1\" class=\"dataframe\">\n",
        "  <thead>\n",
        "    <tr style=\"text-align: right;\">\n",
        "      <th></th>\n",
        "      <th>car_name</th>\n",
        "      <th>mpg</th>\n",
        "    </tr>\n",
        "  </thead>\n",
        "  <tbody>\n",
        "    <tr>\n",
        "      <th>110</th>\n",
        "      <td>       maxda rx3</td>\n",
        "      <td> 18</td>\n",
        "    </tr>\n",
        "    <tr>\n",
        "      <th>75 </th>\n",
        "      <td> volvo 145e (sw)</td>\n",
        "      <td> 18</td>\n",
        "    </tr>\n",
        "    <tr>\n",
        "      <th>119</th>\n",
        "      <td>     volvo 144ea</td>\n",
        "      <td> 19</td>\n",
        "    </tr>\n",
        "    <tr>\n",
        "      <th>70 </th>\n",
        "      <td> mazda rx2 coupe</td>\n",
        "      <td> 19</td>\n",
        "    </tr>\n",
        "    <tr>\n",
        "      <th>111</th>\n",
        "      <td>      ford pinto</td>\n",
        "      <td> 19</td>\n",
        "    </tr>\n",
        "  </tbody>\n",
        "</table>\n",
        "</div>"
       ],
       "metadata": {},
       "output_type": "pyout",
       "prompt_number": 41,
       "text": [
        "            car_name  mpg\n",
        "110        maxda rx3   18\n",
        "75   volvo 145e (sw)   18\n",
        "119      volvo 144ea   19\n",
        "70   mazda rx2 coupe   19\n",
        "111       ford pinto   19"
       ]
      }
     ],
     "prompt_number": 41
    },
    {
     "cell_type": "markdown",
     "metadata": {},
     "source": [
      "###Part 4\n",
      "Use groupby and aggregations to explore the relationships between mpg and the other variables.  Which variables seem to have the greatest effect on mpg?\n",
      "Some examples of things you might want to look at are:\n",
      "- What is the mean mpg for cars for each number of cylindres (i.e. 3 cylinders, 4 cylinders, 5 cylinders, etc)?\n",
      "- Did mpg rise or fall over the years contained in this dataset?\n",
      "- What is the mpg for the group of lighter cars vs the group of heaver cars?"
     ]
    },
    {
     "cell_type": "code",
     "collapsed": false,
     "input": [
      "# What is the mean mpg for cars for each number of cylindres (i.e. 3 cylinders, 4 cylinders, 5 cylinders, etc)?\n",
      "data.groupby('cylinders').mpg.mean()"
     ],
     "language": "python",
     "metadata": {},
     "outputs": [
      {
       "metadata": {},
       "output_type": "pyout",
       "prompt_number": 46,
       "text": [
        "cylinders\n",
        "3            20.550000\n",
        "4            29.283920\n",
        "5            27.366667\n",
        "6            19.973494\n",
        "8            14.963107\n",
        "Name: mpg, dtype: float64"
       ]
      }
     ],
     "prompt_number": 46
    },
    {
     "cell_type": "code",
     "collapsed": false,
     "input": [
      "# Did mpg rise or fall over the years contained in this dataset?\n",
      "data.plot(kind='scatter', x='model_year', y='mpg')\n",
      "# mpg rose over the years "
     ],
     "language": "python",
     "metadata": {},
     "outputs": [
      {
       "metadata": {},
       "output_type": "pyout",
       "prompt_number": 67,
       "text": [
        "<matplotlib.axes._subplots.AxesSubplot at 0xc77bc18>"
       ]
      },
      {
       "metadata": {},
       "output_type": "display_data",
       "png": "[encoded data removed]",
       "text": [
        "<matplotlib.figure.Figure at 0xc3b7198>"
       ]
      }
     ],
     "prompt_number": 67
    },
    {
     "cell_type": "code",
     "collapsed": false,
     "input": [
      "# What is the mpg for the group of lighter cars vs the group of heavier cars?"
     ],
     "language": "python",
     "metadata": {},
     "outputs": [],
     "prompt_number": 47
    },
    {
     "cell_type": "code",
     "collapsed": false,
     "input": [
      "data.weight.hist()"
     ],
     "language": "python",
     "metadata": {},
     "outputs": [
      {
       "metadata": {},
       "output_type": "pyout",
       "prompt_number": 76,
       "text": [
        "<matplotlib.axes._subplots.AxesSubplot at 0xc5fa748>"
       ]
      },
      {
       "metadata": {},
       "output_type": "display_data",
       "png": "[encoded data removed]",
       "text": [
        "<matplotlib.figure.Figure at 0xa2d8cf8>"
       ]
      }
     ],
     "prompt_number": 76
    },
    {
     "cell_type": "code",
     "collapsed": false,
     "input": [
      "data.groupby([data.weight < data.weight.median()]).mpg.mean()"
     ],
     "language": "python",
     "metadata": {},
     "outputs": [
      {
       "metadata": {},
       "output_type": "pyout",
       "prompt_number": 84,
       "text": [
        "weight\n",
        "False     17.648469\n",
        "True      29.243367\n",
        "Name: mpg, dtype: float64"
       ]
      }
     ],
     "prompt_number": 84
    }
   ],
   "metadata": {}
  }
 ]
}