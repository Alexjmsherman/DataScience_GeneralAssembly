{
 "metadata": {
  "name": "",
  "signature": "sha256:1375c7716e21d109978bede660bdaf8087515eeca8461b997c41db515cbde9d8"
 },
 "nbformat": 3,
 "nbformat_minor": 0,
 "worksheets": [
  {
   "cells": [
    {
     "cell_type": "code",
     "collapsed": false,
     "input": [
      "# -*- coding: utf-8 -*-\n",
      "\"\"\"\n",
      "Created on Wed Apr 08 18:31:15 2015\n",
      "\n",
      "@author: alsherman\n",
      "\"\"\"\n",
      "import pandas as pd\n",
      "import numpy as np\n",
      "import matplotlib\n",
      "%matplotlib inline\n"
     ],
     "language": "python",
     "metadata": {},
     "outputs": [],
     "prompt_number": 2
    },
    {
     "cell_type": "code",
     "collapsed": false,
     "input": [
      "train_data = r'C:\\Users\\alsherman\\Desktop\\GitHub\\DataScience_GeneralAssembly\\Data\\train.csv'\n",
      "test_data = r'C:\\Users\\alsherman\\Desktop\\GitHub\\DataScience_GeneralAssembly\\Data\\test.csv'\n",
      "\n",
      "train = pd.read_csv(train_data)\n",
      "test = pd.read_csv(test_data)\n",
      "\n",
      "data = train.append(test)\n",
      "#data.to_csv(r'C:\\Users\\alsherman\\Desktop\\GitHub\\DataScience_GeneralAssembly\\Data\\result.csv')"
     ],
     "language": "python",
     "metadata": {},
     "outputs": [],
     "prompt_number": 3
    },
    {
     "cell_type": "code",
     "collapsed": false,
     "input": [
      "data.head()"
     ],
     "language": "python",
     "metadata": {},
     "outputs": [
      {
       "html": [
        "<div style=\"max-height:1000px;max-width:1500px;overflow:auto;\">\n",
        "<table border=\"1\" class=\"dataframe\">\n",
        "  <thead>\n",
        "    <tr style=\"text-align: right;\">\n",
        "      <th></th>\n",
        "      <th>Age</th>\n",
        "      <th>Cabin</th>\n",
        "      <th>Embarked</th>\n",
        "      <th>Fare</th>\n",
        "      <th>Name</th>\n",
        "      <th>Parch</th>\n",
        "      <th>PassengerId</th>\n",
        "      <th>Pclass</th>\n",
        "      <th>Sex</th>\n",
        "      <th>SibSp</th>\n",
        "      <th>Survived</th>\n",
        "      <th>Ticket</th>\n",
        "    </tr>\n",
        "  </thead>\n",
        "  <tbody>\n",
        "    <tr>\n",
        "      <th>0</th>\n",
        "      <td>22</td>\n",
        "      <td>NaN</td>\n",
        "      <td>S</td>\n",
        "      <td>7.2500</td>\n",
        "      <td>Braund, Mr. Owen Harris</td>\n",
        "      <td>0</td>\n",
        "      <td>1</td>\n",
        "      <td>3</td>\n",
        "      <td>male</td>\n",
        "      <td>1</td>\n",
        "      <td>0</td>\n",
        "      <td>A/5 21171</td>\n",
        "    </tr>\n",
        "    <tr>\n",
        "      <th>1</th>\n",
        "      <td>38</td>\n",
        "      <td>C85</td>\n",
        "      <td>C</td>\n",
        "      <td>71.2833</td>\n",
        "      <td>Cumings, Mrs. John Bradley (Florence Briggs Th...</td>\n",
        "      <td>0</td>\n",
        "      <td>2</td>\n",
        "      <td>1</td>\n",
        "      <td>female</td>\n",
        "      <td>1</td>\n",
        "      <td>1</td>\n",
        "      <td>PC 17599</td>\n",
        "    </tr>\n",
        "    <tr>\n",
        "      <th>2</th>\n",
        "      <td>26</td>\n",
        "      <td>NaN</td>\n",
        "      <td>S</td>\n",
        "      <td>7.9250</td>\n",
        "      <td>Heikkinen, Miss. Laina</td>\n",
        "      <td>0</td>\n",
        "      <td>3</td>\n",
        "      <td>3</td>\n",
        "      <td>female</td>\n",
        "      <td>0</td>\n",
        "      <td>1</td>\n",
        "      <td>STON/O2. 3101282</td>\n",
        "    </tr>\n",
        "    <tr>\n",
        "      <th>3</th>\n",
        "      <td>35</td>\n",
        "      <td>C123</td>\n",
        "      <td>S</td>\n",
        "      <td>53.1000</td>\n",
        "      <td>Futrelle, Mrs. Jacques Heath (Lily May Peel)</td>\n",
        "      <td>0</td>\n",
        "      <td>4</td>\n",
        "      <td>1</td>\n",
        "      <td>female</td>\n",
        "      <td>1</td>\n",
        "      <td>1</td>\n",
        "      <td>113803</td>\n",
        "    </tr>\n",
        "    <tr>\n",
        "      <th>4</th>\n",
        "      <td>35</td>\n",
        "      <td>NaN</td>\n",
        "      <td>S</td>\n",
        "      <td>8.0500</td>\n",
        "      <td>Allen, Mr. William Henry</td>\n",
        "      <td>0</td>\n",
        "      <td>5</td>\n",
        "      <td>3</td>\n",
        "      <td>male</td>\n",
        "      <td>0</td>\n",
        "      <td>0</td>\n",
        "      <td>373450</td>\n",
        "    </tr>\n",
        "  </tbody>\n",
        "</table>\n",
        "</div>"
       ],
       "metadata": {},
       "output_type": "pyout",
       "prompt_number": 6,
       "text": [
        "   Age Cabin Embarked     Fare  \\\n",
        "0   22   NaN        S   7.2500   \n",
        "1   38   C85        C  71.2833   \n",
        "2   26   NaN        S   7.9250   \n",
        "3   35  C123        S  53.1000   \n",
        "4   35   NaN        S   8.0500   \n",
        "\n",
        "                                                Name  Parch  PassengerId  \\\n",
        "0                            Braund, Mr. Owen Harris      0            1   \n",
        "1  Cumings, Mrs. John Bradley (Florence Briggs Th...      0            2   \n",
        "2                             Heikkinen, Miss. Laina      0            3   \n",
        "3       Futrelle, Mrs. Jacques Heath (Lily May Peel)      0            4   \n",
        "4                           Allen, Mr. William Henry      0            5   \n",
        "\n",
        "   Pclass     Sex  SibSp  Survived            Ticket  \n",
        "0       3    male      1         0         A/5 21171  \n",
        "1       1  female      1         1          PC 17599  \n",
        "2       3  female      0         1  STON/O2. 3101282  \n",
        "3       1  female      1         1            113803  \n",
        "4       3    male      0         0            373450  "
       ]
      }
     ],
     "prompt_number": 6
    },
    {
     "cell_type": "code",
     "collapsed": false,
     "input": [
      "# Check for missing values in all columns\n",
      "d.isnull().sum()\n",
      "d.groupby(['Sex', 'Pclass']).Age.apply(lambda x: x.isnull().sum()) / d.groupby(['Sex', 'Pclass']).Age.count()\n",
      "d.groupby(['Sex', 'Pclass']).Age.mean()"
     ],
     "language": "python",
     "metadata": {},
     "outputs": []
    },
    {
     "cell_type": "code",
     "collapsed": false,
     "input": [
      "# Explore the data to indtify trends in characteristics of survivors\n",
      "d.Survived.value_counts()                    # How many people lived and died\n",
      "d.Survived.mean()                            # The survival rate for everyone\n",
      "d.groupby('Sex').Survived.mean()             # By Sex: women have higher survival rates\n",
      "d.groupby('Sex').Pclass.count()\n",
      "d.groupby(['Sex','Pclass']).count()\n",
      "d.groupby('Pclass').Survived.mean()          # By Pclass: 1st class passengers have higher survival rates\n",
      "d.groupby(['Sex', 'Pclass']).Survived.mean() # By Sex and Pclass: Women in the 1st and 2nd classes had the highest survival rates"
     ],
     "language": "python",
     "metadata": {},
     "outputs": [
      {
       "ename": "NameError",
       "evalue": "name 'd' is not defined",
       "output_type": "pyerr",
       "traceback": [
        "\u001b[1;31m---------------------------------------------------------------------------\u001b[0m\n\u001b[1;31mNameError\u001b[0m                                 Traceback (most recent call last)",
        "\u001b[1;32m<ipython-input-7-0cbfd4edc006>\u001b[0m in \u001b[0;36m<module>\u001b[1;34m()\u001b[0m\n\u001b[0;32m      1\u001b[0m \u001b[1;31m# Explore the data to indtify trends in characteristics of survivors\u001b[0m\u001b[1;33m\u001b[0m\u001b[1;33m\u001b[0m\u001b[0m\n\u001b[1;32m----> 2\u001b[1;33m \u001b[0md\u001b[0m\u001b[1;33m.\u001b[0m\u001b[0mSurvived\u001b[0m\u001b[1;33m.\u001b[0m\u001b[0mvalue_counts\u001b[0m\u001b[1;33m(\u001b[0m\u001b[1;33m)\u001b[0m                    \u001b[1;31m# How many people lived and died\u001b[0m\u001b[1;33m\u001b[0m\u001b[0m\n\u001b[0m\u001b[0;32m      3\u001b[0m \u001b[0md\u001b[0m\u001b[1;33m.\u001b[0m\u001b[0mSurvived\u001b[0m\u001b[1;33m.\u001b[0m\u001b[0mmean\u001b[0m\u001b[1;33m(\u001b[0m\u001b[1;33m)\u001b[0m                            \u001b[1;31m# The survival rate for everyone\u001b[0m\u001b[1;33m\u001b[0m\u001b[0m\n\u001b[0;32m      4\u001b[0m \u001b[0md\u001b[0m\u001b[1;33m.\u001b[0m\u001b[0mgroupby\u001b[0m\u001b[1;33m(\u001b[0m\u001b[1;34m'Sex'\u001b[0m\u001b[1;33m)\u001b[0m\u001b[1;33m.\u001b[0m\u001b[0mSurvived\u001b[0m\u001b[1;33m.\u001b[0m\u001b[0mmean\u001b[0m\u001b[1;33m(\u001b[0m\u001b[1;33m)\u001b[0m             \u001b[1;31m# By Sex: women have higher survival rates\u001b[0m\u001b[1;33m\u001b[0m\u001b[0m\n\u001b[0;32m      5\u001b[0m \u001b[0md\u001b[0m\u001b[1;33m.\u001b[0m\u001b[0mgroupby\u001b[0m\u001b[1;33m(\u001b[0m\u001b[1;34m'Sex'\u001b[0m\u001b[1;33m)\u001b[0m\u001b[1;33m.\u001b[0m\u001b[0mPclass\u001b[0m\u001b[1;33m.\u001b[0m\u001b[0mcount\u001b[0m\u001b[1;33m(\u001b[0m\u001b[1;33m)\u001b[0m\u001b[1;33m\u001b[0m\u001b[0m\n",
        "\u001b[1;31mNameError\u001b[0m: name 'd' is not defined"
       ]
      }
     ],
     "prompt_number": 7
    },
    {
     "cell_type": "code",
     "collapsed": false,
     "input": [
      "# Convert all variables to numeric so for scikit learn\n",
      "d['Sex'] = np.where(d.Sex == 'female', 1, 0)\n",
      "\n",
      "# Fill in missing values with the mean value (hint: use .fillna())\n",
      "d['Age'] = d['Age'].fillna(d['Age'].mean())"
     ],
     "language": "python",
     "metadata": {},
     "outputs": []
    },
    {
     "cell_type": "code",
     "collapsed": false,
     "input": [
      "# Create a proxy variable representing whether the Spouse was on board\n",
      "d['Spouse'] = ((d.Age > 18) & (d.SibSp >= 1)).astype(int)\n",
      "d.Spouse.value_counts()\n",
      "d.groupby(['Pclass', 'Spouse']).Survived.mean() # Having a spouse appears to increase survival in the 1st class only"
     ],
     "language": "python",
     "metadata": {},
     "outputs": []
    },
    {
     "cell_type": "code",
     "collapsed": false,
     "input": [
      "data['binned_age'] = [age - age%10 for age in data.Age ]"
     ],
     "language": "python",
     "metadata": {},
     "outputs": [],
     "prompt_number": 5
    },
    {
     "cell_type": "code",
     "collapsed": false,
     "input": [
      "name = [name.split(',')[1].split('.')[0] for name in data.Name]"
     ],
     "language": "python",
     "metadata": {},
     "outputs": [],
     "prompt_number": 6
    },
    {
     "cell_type": "code",
     "collapsed": false,
     "input": [
      "data['Title'] = [name.split(',')[1].split('.')[0] for name in data.Name]"
     ],
     "language": "python",
     "metadata": {},
     "outputs": [],
     "prompt_number": 7
    },
    {
     "cell_type": "code",
     "collapsed": false,
     "input": [
      "data.head()"
     ],
     "language": "python",
     "metadata": {},
     "outputs": [
      {
       "html": [
        "<div style=\"max-height:1000px;max-width:1500px;overflow:auto;\">\n",
        "<table border=\"1\" class=\"dataframe\">\n",
        "  <thead>\n",
        "    <tr style=\"text-align: right;\">\n",
        "      <th></th>\n",
        "      <th>Age</th>\n",
        "      <th>Cabin</th>\n",
        "      <th>Embarked</th>\n",
        "      <th>Fare</th>\n",
        "      <th>Name</th>\n",
        "      <th>Parch</th>\n",
        "      <th>PassengerId</th>\n",
        "      <th>Pclass</th>\n",
        "      <th>Sex</th>\n",
        "      <th>SibSp</th>\n",
        "      <th>Survived</th>\n",
        "      <th>Ticket</th>\n",
        "      <th>binned_age</th>\n",
        "      <th>Title</th>\n",
        "    </tr>\n",
        "  </thead>\n",
        "  <tbody>\n",
        "    <tr>\n",
        "      <th>0</th>\n",
        "      <td>22</td>\n",
        "      <td>NaN</td>\n",
        "      <td>S</td>\n",
        "      <td>7.2500</td>\n",
        "      <td>Braund, Mr. Owen Harris</td>\n",
        "      <td>0</td>\n",
        "      <td>1</td>\n",
        "      <td>3</td>\n",
        "      <td>male</td>\n",
        "      <td>1</td>\n",
        "      <td>0</td>\n",
        "      <td>A/5 21171</td>\n",
        "      <td>20</td>\n",
        "      <td>Mr</td>\n",
        "    </tr>\n",
        "    <tr>\n",
        "      <th>1</th>\n",
        "      <td>38</td>\n",
        "      <td>C85</td>\n",
        "      <td>C</td>\n",
        "      <td>71.2833</td>\n",
        "      <td>Cumings, Mrs. John Bradley (Florence Briggs Th...</td>\n",
        "      <td>0</td>\n",
        "      <td>2</td>\n",
        "      <td>1</td>\n",
        "      <td>female</td>\n",
        "      <td>1</td>\n",
        "      <td>1</td>\n",
        "      <td>PC 17599</td>\n",
        "      <td>30</td>\n",
        "      <td>Mrs</td>\n",
        "    </tr>\n",
        "    <tr>\n",
        "      <th>2</th>\n",
        "      <td>26</td>\n",
        "      <td>NaN</td>\n",
        "      <td>S</td>\n",
        "      <td>7.9250</td>\n",
        "      <td>Heikkinen, Miss. Laina</td>\n",
        "      <td>0</td>\n",
        "      <td>3</td>\n",
        "      <td>3</td>\n",
        "      <td>female</td>\n",
        "      <td>0</td>\n",
        "      <td>1</td>\n",
        "      <td>STON/O2. 3101282</td>\n",
        "      <td>20</td>\n",
        "      <td>Miss</td>\n",
        "    </tr>\n",
        "    <tr>\n",
        "      <th>3</th>\n",
        "      <td>35</td>\n",
        "      <td>C123</td>\n",
        "      <td>S</td>\n",
        "      <td>53.1000</td>\n",
        "      <td>Futrelle, Mrs. Jacques Heath (Lily May Peel)</td>\n",
        "      <td>0</td>\n",
        "      <td>4</td>\n",
        "      <td>1</td>\n",
        "      <td>female</td>\n",
        "      <td>1</td>\n",
        "      <td>1</td>\n",
        "      <td>113803</td>\n",
        "      <td>30</td>\n",
        "      <td>Mrs</td>\n",
        "    </tr>\n",
        "    <tr>\n",
        "      <th>4</th>\n",
        "      <td>35</td>\n",
        "      <td>NaN</td>\n",
        "      <td>S</td>\n",
        "      <td>8.0500</td>\n",
        "      <td>Allen, Mr. William Henry</td>\n",
        "      <td>0</td>\n",
        "      <td>5</td>\n",
        "      <td>3</td>\n",
        "      <td>male</td>\n",
        "      <td>0</td>\n",
        "      <td>0</td>\n",
        "      <td>373450</td>\n",
        "      <td>30</td>\n",
        "      <td>Mr</td>\n",
        "    </tr>\n",
        "  </tbody>\n",
        "</table>\n",
        "</div>"
       ],
       "metadata": {},
       "output_type": "pyout",
       "prompt_number": 8,
       "text": [
        "   Age Cabin Embarked     Fare  \\\n",
        "0   22   NaN        S   7.2500   \n",
        "1   38   C85        C  71.2833   \n",
        "2   26   NaN        S   7.9250   \n",
        "3   35  C123        S  53.1000   \n",
        "4   35   NaN        S   8.0500   \n",
        "\n",
        "                                                Name  Parch  PassengerId  \\\n",
        "0                            Braund, Mr. Owen Harris      0            1   \n",
        "1  Cumings, Mrs. John Bradley (Florence Briggs Th...      0            2   \n",
        "2                             Heikkinen, Miss. Laina      0            3   \n",
        "3       Futrelle, Mrs. Jacques Heath (Lily May Peel)      0            4   \n",
        "4                           Allen, Mr. William Henry      0            5   \n",
        "\n",
        "   Pclass     Sex  SibSp Survived            Ticket  binned_age  Title  \n",
        "0       3    male      1        0         A/5 21171          20     Mr  \n",
        "1       1  female      1        1          PC 17599          30    Mrs  \n",
        "2       3  female      0        1  STON/O2. 3101282          20   Miss  \n",
        "3       1  female      1        1            113803          30    Mrs  \n",
        "4       3    male      0        0            373450          30     Mr  "
       ]
      }
     ],
     "prompt_number": 8
    },
    {
     "cell_type": "code",
     "collapsed": false,
     "input": [
      "train.Age.hist(by=train.Survived, sharex=True, sharey=True)"
     ],
     "language": "python",
     "metadata": {},
     "outputs": [
      {
       "metadata": {},
       "output_type": "pyout",
       "prompt_number": 9,
       "text": [
        "array([<matplotlib.axes._subplots.AxesSubplot object at 0x00000000039BB160>,\n",
        "       <matplotlib.axes._subplots.AxesSubplot object at 0x000000000B4869E8>], dtype=object)"
       ]
      },
      {
       "metadata": {},
       "output_type": "display_data",
       "png": "[encoded data removed]",
       "text": [
        "<matplotlib.figure.Figure at 0x3993be0>"
       ]
      }
     ],
     "prompt_number": 9
    },
    {
     "cell_type": "code",
     "collapsed": false,
     "input": [
      "for i in data.columns:\n",
      "    i, len(data[i][data[i].isnull()])\n",
      "    #[data[i].isnull()])"
     ],
     "language": "python",
     "metadata": {},
     "outputs": [],
     "prompt_number": 10
    },
    {
     "cell_type": "code",
     "collapsed": false,
     "input": [
      "#redefine train as train2\n",
      "train2 = data[0:892]"
     ],
     "language": "python",
     "metadata": {},
     "outputs": [],
     "prompt_number": 36
    },
    {
     "cell_type": "code",
     "collapsed": false,
     "input": [
      "X = train2.drop(['Age','Survived','Embarked','Cabin','Name','Sex','Ticket','Title','binned_age'], axis=1)\n",
      "y = train2['Survived']"
     ],
     "language": "python",
     "metadata": {},
     "outputs": [],
     "prompt_number": 30
    },
    {
     "cell_type": "code",
     "collapsed": false,
     "input": [
      "from sklearn.cross_validation import train_test_split\n",
      "X_train, X_test, y_train, y_test = train_test_split(X, y, random_state = 4)"
     ],
     "language": "python",
     "metadata": {},
     "outputs": [],
     "prompt_number": 31
    },
    {
     "cell_type": "code",
     "collapsed": false,
     "input": [
      "# KNN with K=5\n",
      "from sklearn.neighbors import KNeighborsClassifier  # import class"
     ],
     "language": "python",
     "metadata": {},
     "outputs": [],
     "prompt_number": 32
    },
    {
     "cell_type": "code",
     "collapsed": false,
     "input": [
      "# Step 2: train the model on the training set (using K=1)\n",
      "knn = KNeighborsClassifier(n_neighbors=1)\n",
      "knn.fit(X_train, y_train)"
     ],
     "language": "python",
     "metadata": {},
     "outputs": [
      {
       "metadata": {},
       "output_type": "pyout",
       "prompt_number": 33,
       "text": [
        "KNeighborsClassifier(algorithm='auto', leaf_size=30, metric='minkowski',\n",
        "           metric_params=None, n_neighbors=1, p=2, weights='uniform')"
       ]
      }
     ],
     "prompt_number": 33
    },
    {
     "cell_type": "code",
     "collapsed": false,
     "input": [
      "# Step 3: test the model on the testing set, and check the accuracy\n",
      "from sklearn import metrics\n",
      "y_pred = knn.predict(X_test)\n",
      "#print metrics.accuracy_score(y_test, y_pred)"
     ],
     "language": "python",
     "metadata": {},
     "outputs": [],
     "prompt_number": 34
    },
    {
     "cell_type": "code",
     "collapsed": false,
     "input": [
      "print metrics.accuracy_score(y_test.astype(int), y_pred.astype(int))"
     ],
     "language": "python",
     "metadata": {},
     "outputs": [
      {
       "output_type": "stream",
       "stream": "stdout",
       "text": [
        "0.609865470852\n"
       ]
      }
     ],
     "prompt_number": 35
    },
    {
     "cell_type": "code",
     "collapsed": false,
     "input": [
      "test2 = data[892:]"
     ],
     "language": "python",
     "metadata": {},
     "outputs": [],
     "prompt_number": 112
    },
    {
     "cell_type": "code",
     "collapsed": false,
     "input": [
      "X = test2.drop(['Age','Survived','Embarked','Cabin','Name','Sex','Ticket','Title','binned_age'], axis=1)"
     ],
     "language": "python",
     "metadata": {},
     "outputs": [],
     "prompt_number": 113
    },
    {
     "cell_type": "code",
     "collapsed": false,
     "input": [
      "X = X.fillna(28)"
     ],
     "language": "python",
     "metadata": {},
     "outputs": [],
     "prompt_number": 114
    },
    {
     "cell_type": "code",
     "collapsed": false,
     "input": [
      "y_pred = knn.predict(X)"
     ],
     "language": "python",
     "metadata": {},
     "outputs": [],
     "prompt_number": 115
    },
    {
     "cell_type": "code",
     "collapsed": false,
     "input": [
      "test2['prediction'] = y_pred"
     ],
     "language": "python",
     "metadata": {},
     "outputs": [],
     "prompt_number": 120
    },
    {
     "cell_type": "code",
     "collapsed": false,
     "input": [
      "submit = test2['Survived']\n",
      "\n",
      "#submit.columns = [['PassengerId','Survived']]"
     ],
     "language": "python",
     "metadata": {},
     "outputs": [],
     "prompt_number": 121
    },
    {
     "cell_type": "code",
     "collapsed": false,
     "input": [
      "submit = pd.DataFrame(submit)\n",
      "submit['Survived'] = [0 if i != 1 else 1 for i in submit.Survived]"
     ],
     "language": "python",
     "metadata": {},
     "outputs": [],
     "prompt_number": 118
    },
    {
     "cell_type": "code",
     "collapsed": false,
     "input": [
      "submit.to_csv(r'C:\\Users\\alsherman\\Desktop\\GitHub\\DataScience_GeneralAssembly\\Data\\submit.csv')"
     ],
     "language": "python",
     "metadata": {},
     "outputs": [],
     "prompt_number": 110
    },
    {
     "cell_type": "code",
     "collapsed": false,
     "input": [
      "\n",
      "\n",
      "'''\n",
      "\n",
      "Split into training and test datasets, and build the model\n",
      "\n",
      "'''\n",
      "\n",
      "# Now, split the data into training and test sets\n",
      "train, test = train_test_split(d,test_size=0.3, random_state=1)\n",
      "\n",
      "# Convert them back into dataframes, for convenience\n",
      "train = pd.DataFrame(data=train, columns=d.columns)\n",
      "test = pd.DataFrame(data=test, columns=d.columns)\n",
      "\n",
      "# Create a decision tree classifier instance (start out with a small tree for interpretability)\n",
      "ctree = tree.DecisionTreeClassifier(random_state=1, max_depth=3)\n",
      "\n",
      "# Fit the decision tree classider\n",
      "ctree.fit(train.drop('Survived', axis=1), train['Survived'])\n",
      "\n",
      "# Create a feature vector\n",
      "features = d.columns.tolist()[1:]\n",
      "\n",
      "# Create a dot file\n",
      "with open(\"titanic.dot\", 'w') as f:\n",
      "    f = tree.export_graphviz(ctree, out_file=f, feature_names=features, close=True)\n",
      "\n",
      "'''\n",
      "INSTRUCTIONS FOR USING GRAPHVIZ TO VISUALIZE THE TREE DIAGRAM\n",
      "1) download graphviz\n",
      "    http://www.graphviz.org/pub/graphviz/stable/windows/graphviz-2.38.msi\n",
      "\n",
      "2) add the file location to your environment variables\n",
      "\n",
      "    For PC users: \n",
      "    Right click on Computer -> Advanced system settings -> Environment \n",
      "    Variables -> Under system variable, edit Path -> Copy and paste the folder\n",
      "    location where \\Graphviz is stored with no spaces: \n",
      "    'C:\\Program Files (x86)\\Graphviz2.30\\bin;'\n",
      "\n",
      "3) You might need to restart your computer\n",
      "\n",
      "4) convert the dot file to a pdf \n",
      "    \n",
      "    run the following from the command line interface in the same \n",
      "    directory as your dot file\n",
      "    dot -Tpdf titanic.dot -o titanic.pdf\n",
      "'''\n",
      "\n",
      "# How to interpret the diagram?\n",
      "ctree.classes_\n",
      "\n",
      "# Predict what will happen for 1st class woman\n",
      "features\n",
      "ctree.predict_proba([1, 1, 25, 0, 0, 0])\n",
      "ctree.predict([1, 1, 25, 0, 0, 0])\n",
      "\n",
      "# Predict what will happen for a 3rd class man\n",
      "ctree.predict_proba([3, 0, 25, 0, 0, 0])\n",
      "\n",
      "# Which features are the most important?\n",
      "# See \"..other/calculating_cart_importance_measures.xlsx\" for a detailed example\n",
      "ctree.feature_importances_\n",
      "\n",
      "# Clean up the output\n",
      "pd.DataFrame(zip(features, ctree.feature_importances_)).sort_index(by=1, ascending=False)\n",
      "\n",
      "# Make predictions on the test set\n",
      "preds = ctree.predict(test.drop('Survived', axis=1))\n",
      "\n",
      "# Calculate accuracy\n",
      "metrics.accuracy_score(test['Survived'], preds)\n",
      "\n",
      "# Confusion matrix\n",
      "pd.crosstab(test['Survived'], preds, rownames=['actual'], colnames=['predicted'])\n",
      "\n",
      "# Make predictions on the test set using predict_proba\n",
      "probs = ctree.predict_proba(test.drop('Survived', axis=1))[:,1]\n",
      "\n",
      "# Calculate the AUC metric\n",
      "metrics.roc_auc_score(test['Survived'], probs)\n",
      "\n",
      "'''\n",
      "\n",
      "FINE-TUNING THE TREE\n",
      "\n",
      "'''\n",
      "from sklearn.cross_validation import cross_val_score\n",
      "from sklearn.grid_search import GridSearchCV\n",
      "\n",
      "y = d['Survived'].values\n",
      "X = d[['Pclass', 'Sex', 'Age', 'SibSp', 'Parch', 'Spouse']].values\n",
      "\n",
      "# check CV score for max depth = 3\n",
      "ctree = tree.DecisionTreeClassifier(max_depth=3)\n",
      "np.mean(cross_val_score(ctree, X, y, cv=5, scoring='roc_auc'))\n",
      "\n",
      "# check CV score for max depth = 10\n",
      "ctree = tree.DecisionTreeClassifier(max_depth=10)\n",
      "np.mean(cross_val_score(ctree, X, y, cv=5, scoring='roc_auc'))\n",
      "\n",
      "# Conduct a grid search for the best tree depth\n",
      "ctree = tree.DecisionTreeClassifier(random_state=1, min_samples_leaf=20)\n",
      "depth_range = range(1, 20)\n",
      "param_grid = dict(max_depth=depth_range)\n",
      "grid = GridSearchCV(ctree, param_grid, cv=5, scoring='roc_auc')\n",
      "grid.fit(X, y)\n",
      "\n",
      "# Check out the scores of the grid search\n",
      "grid_mean_scores = [result[1] for result in grid.grid_scores_]\n",
      "\n",
      "# Plot the results of the grid search\n",
      "plt.figure()\n",
      "plt.plot(depth_range, grid_mean_scores)\n",
      "plt.hold(True)\n",
      "plt.grid(True)\n",
      "plt.plot(grid.best_params_['max_depth'], grid.best_score_, 'ro', markersize=12, markeredgewidth=1.5,\n",
      "         markerfacecolor='None', markeredgecolor='r')\n",
      "\n",
      "# Get the best estimator\n",
      "best = grid.best_estimator_\n",
      "\n",
      "# Plot the best estimator\n",
      "with open(\"titanic_best.dot\", 'w') as f:\n",
      "    f = tree.export_graphviz(best, out_file=f, feature_names=features, close=True)"
     ],
     "language": "python",
     "metadata": {},
     "outputs": []
    }
   ],
   "metadata": {}
  }
 ]
}